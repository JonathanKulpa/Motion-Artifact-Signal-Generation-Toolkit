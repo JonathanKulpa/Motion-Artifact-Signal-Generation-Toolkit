{
  "nbformat": 4,
  "nbformat_minor": 0,
  "metadata": {
    "colab": {
      "provenance": [],
      "authorship_tag": "ABX9TyMd9TVTUSz/nW4o+rhMWz0m",
      "include_colab_link": true
    },
    "kernelspec": {
      "name": "python3",
      "display_name": "Python 3"
    },
    "language_info": {
      "name": "python"
    },
    "accelerator": "GPU"
  },
  "cells": [
    {
      "cell_type": "markdown",
      "metadata": {
        "id": "view-in-github",
        "colab_type": "text"
      },
      "source": [
        "<a href=\"https://colab.research.google.com/github/JonathanKulpa/Motion-Artifact-Signal-Generation-Toolkit/blob/Branch1/AR_Train_and_Sim.ipynb\" target=\"_parent\"><img src=\"https://colab.research.google.com/assets/colab-badge.svg\" alt=\"Open In Colab\"/></a>"
      ]
    },
    {
      "cell_type": "markdown",
      "metadata": {
        "id": "N7oLYc5yumbu"
      },
      "source": [
        "# **AR Training and Simulation**\n",
        "\n",
        "This python notebook allows you to use an Autoregressive (AR) model to output a simulated motion artifact signal.\n",
        "\n",
        "You will need to have a sample file of motion artifact data so that the AR model can be trained.\n",
        "\n",
        "If you plan on training the model and simulating a motion artifact signal from the model, run all the cells.\n",
        "\n",
        "If you only plan on training the model, run the cells up until the beginning of Part 2.\n",
        "\n",
        "If you plan on simulating a motion artifact signal using a model that was trained previously, run the following cell for loading the required libraries, and then continue running from Part 2.\n"
      ]
    },
    {
      "cell_type": "code",
      "metadata": {
        "colab": {
          "base_uri": "https://localhost:8080/"
        },
        "id": "6aH1t9tVu-ua",
        "outputId": "a2d99f3f-917f-4eae-8068-0f18c584e847"
      },
      "source": [
        "!pip install spectrum\n",
        "from spectrum import aryule\n",
        "import matplotlib.pyplot as plt\n",
        "import numpy as np\n",
        "from scipy import signal, stats, spatial, mean\n",
        "from scipy.signal import butter, freqz\n",
        "from scipy.fftpack import fft\n",
        "import pandas as pd\n",
        "import matplotlib.pylab as pylab\n",
        "import string\n",
        "import math\n",
        "from google.colab import files\n",
        "import io"
      ],
      "execution_count": null,
      "outputs": [
        {
          "output_type": "stream",
          "name": "stdout",
          "text": [
            "Looking in indexes: https://pypi.org/simple, https://us-python.pkg.dev/colab-wheels/public/simple/\n",
            "Requirement already satisfied: spectrum in /usr/local/lib/python3.7/dist-packages (0.8.1)\n",
            "Requirement already satisfied: easydev in /usr/local/lib/python3.7/dist-packages (from spectrum) (0.12.0)\n",
            "Requirement already satisfied: matplotlib in /usr/local/lib/python3.7/dist-packages (from spectrum) (3.2.2)\n",
            "Requirement already satisfied: scipy in /usr/local/lib/python3.7/dist-packages (from spectrum) (1.7.3)\n",
            "Requirement already satisfied: numpy in /usr/local/lib/python3.7/dist-packages (from spectrum) (1.21.6)\n",
            "Requirement already satisfied: colorama in /usr/local/lib/python3.7/dist-packages (from easydev->spectrum) (0.4.5)\n",
            "Requirement already satisfied: pexpect in /usr/local/lib/python3.7/dist-packages (from easydev->spectrum) (4.8.0)\n",
            "Requirement already satisfied: colorlog in /usr/local/lib/python3.7/dist-packages (from easydev->spectrum) (6.6.0)\n",
            "Requirement already satisfied: pyparsing!=2.0.4,!=2.1.2,!=2.1.6,>=2.0.1 in /usr/local/lib/python3.7/dist-packages (from matplotlib->spectrum) (3.0.9)\n",
            "Requirement already satisfied: cycler>=0.10 in /usr/local/lib/python3.7/dist-packages (from matplotlib->spectrum) (0.11.0)\n",
            "Requirement already satisfied: kiwisolver>=1.0.1 in /usr/local/lib/python3.7/dist-packages (from matplotlib->spectrum) (1.4.4)\n",
            "Requirement already satisfied: python-dateutil>=2.1 in /usr/local/lib/python3.7/dist-packages (from matplotlib->spectrum) (2.8.2)\n",
            "Requirement already satisfied: typing-extensions in /usr/local/lib/python3.7/dist-packages (from kiwisolver>=1.0.1->matplotlib->spectrum) (4.1.1)\n",
            "Requirement already satisfied: six>=1.5 in /usr/local/lib/python3.7/dist-packages (from python-dateutil>=2.1->matplotlib->spectrum) (1.15.0)\n",
            "Requirement already satisfied: ptyprocess>=0.5 in /usr/local/lib/python3.7/dist-packages (from pexpect->easydev->spectrum) (0.7.0)\n"
          ]
        }
      ]
    },
    {
      "cell_type": "markdown",
      "metadata": {
        "id": "05SG99sQMr5Q"
      },
      "source": [
        "# **Uploading Sample Signal and Preprocessing**\n",
        "\n",
        "Load sample motion artifact and preprocessing"
      ]
    },
    {
      "cell_type": "markdown",
      "metadata": {
        "id": "2KZGiiTtvfmT"
      },
      "source": [
        "## Uploading Sample Motion Artifact Data\n",
        "Choose the sample motion artifact data you would like to use to train the model. File must be in *.csv* format to upload.\n",
        "\n",
        "There are two options to upload the file.\n",
        "\n",
        "**Option 1: Upload directly from your PC**\n",
        "\n",
        "Change the filename in the code to match the sample motion artifact data you would like to use to train the model. Once you run the code cell below, click on \"*Choose Files*\" and select the .csv file you would like to use.\n",
        "\n",
        "In the cell below, change \"*filename*\" accordingly."
      ]
    },
    {
      "cell_type": "code",
      "metadata": {
        "colab": {
          "resources": {
            "http://localhost:8080/nbextensions/google.colab/files.js": {
              "data": "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",
              "ok": true,
              "headers": [
                [
                  "content-type",
                  "application/javascript"
                ]
              ],
              "status": 200,
              "status_text": ""
            }
          },
          "base_uri": "https://localhost:8080/",
          "height": 73
        },
        "id": "kERkMtnhv0Cu",
        "outputId": "a5109f5c-842b-438e-a4c1-aa7e99c7c455"
      },
      "source": [
        "uploaded  = files.upload()\n",
        "data_save = pd.read_csv(io.BytesIO(uploaded['filename.csv']))\n",
        "\n",
        "x= data_save[\"x\"]\n",
        "x = x.dropna()"
      ],
      "execution_count": null,
      "outputs": [
        {
          "output_type": "display_data",
          "data": {
            "text/plain": [
              "<IPython.core.display.HTML object>"
            ],
            "text/html": [
              "\n",
              "     <input type=\"file\" id=\"files-7fc0becf-5c34-41cc-ab94-c86b5ab28a52\" name=\"files[]\" multiple disabled\n",
              "        style=\"border:none\" />\n",
              "     <output id=\"result-7fc0becf-5c34-41cc-ab94-c86b5ab28a52\">\n",
              "      Upload widget is only available when the cell has been executed in the\n",
              "      current browser session. Please rerun this cell to enable.\n",
              "      </output>\n",
              "      <script src=\"/nbextensions/google.colab/files.js\"></script> "
            ]
          },
          "metadata": {}
        },
        {
          "output_type": "stream",
          "name": "stdout",
          "text": [
            "Saving W_S1_85_Ch1.csv to W_S1_85_Ch1.csv\n"
          ]
        }
      ]
    },
    {
      "cell_type": "markdown",
      "metadata": {
        "id": "FWwnIxxpv3P6"
      },
      "source": [
        "**Option 2: Upload from files saved on Google Drive**\n",
        "\n",
        "Firstly, you will need to mount your Google Drive onto this Google Colab session.\n",
        "\n",
        "This is done in the first code cell below. Upon running this cell you will be asked to sign into your Google account, from there you will need to copy a password and paste it back here in the Google Colab session. You will then be able to load and save files to your Google Drive directly from Google Colab."
      ]
    },
    {
      "cell_type": "code",
      "metadata": {
        "id": "k-Ng7v2Uv6-a"
      },
      "source": [
        "#Run this cell to mount your Google Drive\n",
        "from google.colab import drive\n",
        "drive.mount('/content/drive')"
      ],
      "execution_count": null,
      "outputs": []
    },
    {
      "cell_type": "markdown",
      "metadata": {
        "id": "03tk3uwJwB4q"
      },
      "source": [
        "Secondly, change the filename in the code below to match the sample motion artifact data you would like to use to train the model. You will also need to ensure the file path matches that of your file from your Google Drive.\n",
        "\n",
        "In the cell below, change 'YOUR_FILE_NAME' and 'YOUR_FILE_PATH' accordingly."
      ]
    },
    {
      "cell_type": "code",
      "metadata": {
        "id": "BJIiz5FqwF8m"
      },
      "source": [
        "#Run this cell to download your specific filename\n",
        "filename = \"YOUR_FILE_NAME\"\n",
        "path = \"/content/drive/My Drive/YOUR_FILE_PATH/{}.csv\".format(filename)\n",
        "data_save = pd.read_csv(path)\n",
        "\n",
        "x= data_save[\"x\"]\n",
        "x = x.dropna()"
      ],
      "execution_count": null,
      "outputs": []
    },
    {
      "cell_type": "markdown",
      "metadata": {
        "id": "aAQjBHTK5Xhn"
      },
      "source": [
        "## Preprocessing and Plotting\n",
        "\n",
        "Adjust the sampling frequency by changing ***fs*** to match the sampling frequency of the input signal."
      ]
    },
    {
      "cell_type": "code",
      "metadata": {
        "id": "2c3vwocM5X1-",
        "colab": {
          "base_uri": "https://localhost:8080/",
          "height": 312
        },
        "outputId": "f245bd69-6104-4f8b-d30b-b00b3f3a87bf"
      },
      "source": [
        "fs = 2000\n",
        "x = np.asarray(x)\n",
        "\n",
        "length = np.size(x)\n",
        "t_input = np.linspace(0, length/fs, length)\n",
        "\n",
        "# Visualize the generated motion artifact signal over time\n",
        "plt.plot(t_input, x)\n",
        "plt.xlabel('Time(s)')\n",
        "plt.ylabel('Amplitude')\n",
        "plt.title('Input signal')"
      ],
      "execution_count": null,
      "outputs": [
        {
          "output_type": "execute_result",
          "data": {
            "text/plain": [
              "Text(0.5, 1.0, 'Input signal')"
            ]
          },
          "metadata": {},
          "execution_count": 3
        },
        {
          "output_type": "display_data",
          "data": {
            "text/plain": [
              "<Figure size 432x288 with 1 Axes>"
            ],
            "image/png": "[encoded data removed]"
          },
          "metadata": {
            "needs_background": "light"
          }
        }
      ]
    },
    {
      "cell_type": "markdown",
      "source": [
        "###Lowpass Filter"
      ],
      "metadata": {
        "id": "DGrB8PZwZcpE"
      }
    },
    {
      "cell_type": "code",
      "source": [
        "def butter_lowpass(cutoff, fs, order):\n",
        "    nyq = 0.5 * fs\n",
        "    normal_cutoff = cutoff / nyq\n",
        "    b, a = butter(order, normal_cutoff, btype='low', analog=False)\n",
        "    return b, a\n",
        "\n",
        "def butter_lowpass_filter(data, cutoff, fs, order):\n",
        "    b, a = butter_lowpass(cutoff, fs, order=order)\n",
        "    y = signal.filtfilt(b, a, data, axis=0)\n",
        "    return y"
      ],
      "metadata": {
        "id": "S_jJ0b2oZbwW"
      },
      "execution_count": null,
      "outputs": []
    },
    {
      "cell_type": "code",
      "source": [
        "# Setting standard filter requirements.\n",
        "\n",
        "# Specify the order of the lowpass filter\n",
        "order = 6\n",
        "# Specify the cutoff frequency for the lowpass filter\n",
        "cutoff = 10\n",
        "\n",
        "y = butter_lowpass_filter(x, cutoff, fs, order)"
      ],
      "metadata": {
        "id": "fV_WDkakZoqw"
      },
      "execution_count": null,
      "outputs": []
    },
    {
      "cell_type": "code",
      "source": [
        "b, a = butter_lowpass(cutoff, fs, order)\n",
        "\n",
        "# Plotting the frequency response of the lowpass filter.\n",
        "w, h = freqz(b, a, worN=8000)\n",
        "#plt.subplot(2, 1, 1)\n",
        "plt.plot(0.5*fs*w/np.pi, np.abs(h), 'b')\n",
        "plt.plot(cutoff, 0.5*np.sqrt(2), 'ko')\n",
        "plt.axvline(cutoff, color='k')\n",
        "plt.xlim(0, 40)\n",
        "plt.title(\"Lowpass Filter Frequency Response\")\n",
        "plt.xlabel('Frequency [Hz]')\n",
        "plt.grid()"
      ],
      "metadata": {
        "id": "Lly_0TI-aV1P",
        "colab": {
          "base_uri": "https://localhost:8080/",
          "height": 295
        },
        "outputId": "9b71b0f6-2617-4456-8027-3dee2be833ee"
      },
      "execution_count": null,
      "outputs": [
        {
          "output_type": "display_data",
          "data": {
            "text/plain": [
              "<Figure size 432x288 with 1 Axes>"
            ],
            "image/png": "[encoded data removed]"
          },
          "metadata": {
            "needs_background": "light"
          }
        }
      ]
    },
    {
      "cell_type": "markdown",
      "source": [
        "###Power Normalization"
      ],
      "metadata": {
        "id": "_PJRDKyF-zJS"
      }
    },
    {
      "cell_type": "code",
      "source": [
        "signal_power = np.sum(np.square(y))/len(y)\n",
        "v = y/np.sqrt(signal_power)"
      ],
      "metadata": {
        "id": "ugPsQfQ6-hql"
      },
      "execution_count": null,
      "outputs": []
    },
    {
      "cell_type": "markdown",
      "source": [
        "### Downsample\n",
        "\n",
        "Downsample the data by specifying your new sampling frequency of the output signal. The new sampling frequency is denoted by ***new_fs***."
      ],
      "metadata": {
        "id": "SWS-MBpRGO2M"
      }
    },
    {
      "cell_type": "code",
      "source": [
        "new_fs = 67 # New sampling frequency in Hz\n",
        "df = fs/new_fs\n",
        "z = signal.resample(v, int(len(v)/df))"
      ],
      "metadata": {
        "id": "43UI_dgnGUqe"
      },
      "execution_count": null,
      "outputs": []
    },
    {
      "cell_type": "markdown",
      "source": [
        "###Plot Preprocessed Signal"
      ],
      "metadata": {
        "id": "7tHnuy7g_hbg"
      }
    },
    {
      "cell_type": "code",
      "source": [
        "def find_psd(z, new_fs):\n",
        "    f, Pxx_den = signal.welch(z, fs = new_fs, nperseg = len(z)/5)\n",
        "    return(Pxx_den,f)\n",
        "\n",
        "pxx, f = find_psd(z, new_fs)"
      ],
      "metadata": {
        "id": "RlDTR5_9WDcy"
      },
      "execution_count": null,
      "outputs": []
    },
    {
      "cell_type": "code",
      "source": [
        "#Plot preprocessed signal\n",
        "length_z = np.size(z)\n",
        "t_processed = np.linspace(0, length_z/new_fs, length_z)\n",
        "#Preprocessed signal\n",
        "plt.subplot(2,1,1)\n",
        "plt.plot(t_processed, z)\n",
        "plt.xlim([0,10]) #Set time values to zoom on a part of the input signal (seconds)\n",
        "plt.ylim([-4,4]) #Adjust amplitude values for better viewing\n",
        "plt.title('Preprocessed Sample Signal')\n",
        "plt.ylabel('Amplitude')\n",
        "plt.xlabel('Time (s)')\n",
        "\n",
        "#Plot PSD plot of preprocessed signal\n",
        "plt.subplot(2,1,2)\n",
        "plt.plot(f, 10*np.log10(pxx))\n",
        "plt.xlim([0,10]) #Frequency values (Hz) can be adjusted for better viewing\n",
        "plt.ylim([-35,10]) #Magnitude values (dB) can be adjusted for better viewing\n",
        "plt.title('Power Spectral Density of Preprocessed Sample Signal')\n",
        "plt.ylabel('Magnitude (dB)')\n",
        "plt.xlabel('Frequency (Hz)')\n",
        "\n",
        "plt.subplots_adjust(left=None, bottom=None, right=None, top=1.5, wspace=None, hspace=0.5)"
      ],
      "metadata": {
        "id": "Lp6wWrQV_gLh",
        "colab": {
          "base_uri": "https://localhost:8080/",
          "height": 474
        },
        "outputId": "b89c3be2-cd63-44d2-da9b-93b8b6ac1811"
      },
      "execution_count": null,
      "outputs": [
        {
          "output_type": "display_data",
          "data": {
            "text/plain": [
              "<Figure size 432x288 with 2 Axes>"
            ],
            "image/png": "[encoded data removed]"
          },
          "metadata": {
            "needs_background": "light"
          }
        }
      ]
    },
    {
      "cell_type": "markdown",
      "metadata": {
        "id": "rfskNIIWpTOe"
      },
      "source": [
        "# **Part 1: Training**"
      ]
    },
    {
      "cell_type": "markdown",
      "metadata": {
        "id": "E9ynaQrevCPv"
      },
      "source": [
        "## AR model training\n",
        "\n",
        "**ARprocess** trains an AR model based on the uploaded signal.\n",
        "\n",
        "Returns parameters of the trained AR model."
      ]
    },
    {
      "cell_type": "code",
      "metadata": {
        "colab": {
          "base_uri": "https://localhost:8080/"
        },
        "id": "Ndv51R6gvb4s",
        "outputId": "4e4815f9-581a-49af-96f2-bd2591fe86c1"
      },
      "source": [
        "def ARprocess(z):\n",
        "  ar_params, var, coeff_reflection = aryule(z,90)\n",
        "  return ar_params, var\n",
        "\n",
        "ar_params, var = ARprocess(z)\n",
        "print(ar_params)\n",
        "print(var)"
      ],
      "execution_count": null,
      "outputs": [
        {
          "output_type": "stream",
          "name": "stdout",
          "text": [
            "[-3.96380985e+00  6.68922419e+00 -5.31074098e+00  6.87776950e-01\n",
            "  1.96080873e+00 -9.70325793e-01 -8.28143476e-02 -6.64283632e-01\n",
            "  1.19845773e+00 -5.20713556e-01  1.16154128e-01 -4.74696299e-01\n",
            "  5.70825857e-01 -2.18165286e-01  1.33607929e-01 -2.99985688e-01\n",
            "  2.73597914e-01 -1.28305578e-01  1.35599034e-01 -1.83048539e-01\n",
            "  1.48368218e-01 -1.06648773e-01  1.19690570e-01 -1.15011518e-01\n",
            "  9.62477749e-02 -9.21595681e-02  1.00601351e-01 -8.26780428e-02\n",
            "  7.05218021e-02 -7.67172505e-02  8.38136286e-02 -6.48607776e-02\n",
            "  5.73266582e-02 -6.46725409e-02  6.96906152e-02 -5.32729875e-02\n",
            "  4.94306114e-02 -5.40303723e-02  5.93231867e-02 -4.70436729e-02\n",
            "  4.19406634e-02 -4.68115980e-02  5.28645216e-02 -3.82499620e-02\n",
            "  3.83265855e-02 -4.42250162e-02  4.10348963e-02 -3.27087027e-02\n",
            "  4.37166541e-02 -3.71711830e-02  2.89238970e-02 -3.46322034e-02\n",
            "  4.19477570e-02 -2.57196762e-02  2.90529816e-02 -3.76945265e-02\n",
            "  3.24187551e-02 -2.26482955e-02  3.05617012e-02 -2.99916161e-02\n",
            "  3.12083721e-02 -2.86877112e-02  2.32248335e-02 -1.65863540e-02\n",
            "  3.54485566e-02 -3.65168296e-02  1.39904492e-02 -9.53398080e-03\n",
            "  4.09583795e-02 -3.42399014e-02  5.36570884e-03 -1.16564432e-02\n",
            "  4.22475203e-02 -2.39546980e-02  3.75390234e-03 -2.09733137e-02\n",
            "  3.44216719e-02 -7.45141214e-03  1.02797370e-02 -3.00469830e-02\n",
            "  1.34632954e-02  1.05707092e-02  2.83609336e-02 -3.99719657e-02\n",
            " -1.61116542e-02  1.92503701e-02  1.06814854e-01 -2.00155508e-01\n",
            "  1.49057853e-01 -4.88326291e-02]\n",
            "0.0003134775706749943\n"
          ]
        }
      ]
    },
    {
      "cell_type": "markdown",
      "metadata": {
        "id": "MRa3P9oRRmS0"
      },
      "source": [
        "## Save the model parameters\n",
        "\n",
        "*Optional:* Run this cell if you would like to save the model parameters to be able to generate a signal at another time.\n",
        "\n",
        "After running the two cell below, the *ar_params.csv*, *var.csv* and *data_parameters.csv* files will be saved to your local device. These can be used to load the model and simulate a motion artifact at a later time."
      ]
    },
    {
      "cell_type": "code",
      "metadata": {
        "id": "LRBefkkpsfj1",
        "colab": {
          "base_uri": "https://localhost:8080/"
        },
        "outputId": "3b5ab605-cf59-4f65-99d8-4497ca655c17"
      },
      "source": [
        "dfparameter1 = pd.DataFrame(ar_params)\n",
        "dfparameter1.to_csv(\"ar_params.csv\")\n",
        "\n",
        "vars = [(var, 1)]\n",
        "dfparameter2 = pd.DataFrame(vars)\n",
        "dfparameter2.to_csv(\"var.csv\")\n",
        "\n",
        "data_parameters = [fs, new_fs]\n",
        "dfparameter3 = pd.DataFrame(data_parameters)\n",
        "dfparameter3.to_csv(\"data_parameters.csv\")\n",
        "\n",
        "print(\"Var = \")\n",
        "print(var)\n",
        "print(\"AR Parameters = \")\n",
        "print(ar_params)\n",
        "print(\"Data Parameters = \")\n",
        "print(data_parameters)"
      ],
      "execution_count": null,
      "outputs": [
        {
          "output_type": "stream",
          "name": "stdout",
          "text": [
            "Var = \n",
            "0.0003134775706749943\n",
            "AR Parameters = \n",
            "[-3.96380985e+00  6.68922419e+00 -5.31074098e+00  6.87776950e-01\n",
            "  1.96080873e+00 -9.70325793e-01 -8.28143476e-02 -6.64283632e-01\n",
            "  1.19845773e+00 -5.20713556e-01  1.16154128e-01 -4.74696299e-01\n",
            "  5.70825857e-01 -2.18165286e-01  1.33607929e-01 -2.99985688e-01\n",
            "  2.73597914e-01 -1.28305578e-01  1.35599034e-01 -1.83048539e-01\n",
            "  1.48368218e-01 -1.06648773e-01  1.19690570e-01 -1.15011518e-01\n",
            "  9.62477749e-02 -9.21595681e-02  1.00601351e-01 -8.26780428e-02\n",
            "  7.05218021e-02 -7.67172505e-02  8.38136286e-02 -6.48607776e-02\n",
            "  5.73266582e-02 -6.46725409e-02  6.96906152e-02 -5.32729875e-02\n",
            "  4.94306114e-02 -5.40303723e-02  5.93231867e-02 -4.70436729e-02\n",
            "  4.19406634e-02 -4.68115980e-02  5.28645216e-02 -3.82499620e-02\n",
            "  3.83265855e-02 -4.42250162e-02  4.10348963e-02 -3.27087027e-02\n",
            "  4.37166541e-02 -3.71711830e-02  2.89238970e-02 -3.46322034e-02\n",
            "  4.19477570e-02 -2.57196762e-02  2.90529816e-02 -3.76945265e-02\n",
            "  3.24187551e-02 -2.26482955e-02  3.05617012e-02 -2.99916161e-02\n",
            "  3.12083721e-02 -2.86877112e-02  2.32248335e-02 -1.65863540e-02\n",
            "  3.54485566e-02 -3.65168296e-02  1.39904492e-02 -9.53398080e-03\n",
            "  4.09583795e-02 -3.42399014e-02  5.36570884e-03 -1.16564432e-02\n",
            "  4.22475203e-02 -2.39546980e-02  3.75390234e-03 -2.09733137e-02\n",
            "  3.44216719e-02 -7.45141214e-03  1.02797370e-02 -3.00469830e-02\n",
            "  1.34632954e-02  1.05707092e-02  2.83609336e-02 -3.99719657e-02\n",
            " -1.61116542e-02  1.92503701e-02  1.06814854e-01 -2.00155508e-01\n",
            "  1.49057853e-01 -4.88326291e-02]\n",
            "Data Parameters = \n",
            "[2000, 67]\n"
          ]
        }
      ]
    },
    {
      "cell_type": "code",
      "source": [
        "#Download the files\n",
        "files.download('ar_params.csv')\n",
        "files.download('var.csv')\n",
        "files.download('data_parameters.csv')"
      ],
      "metadata": {
        "id": "M5ulA3I2WbX0",
        "colab": {
          "base_uri": "https://localhost:8080/",
          "height": 17
        },
        "outputId": "1e876515-c0eb-47a2-ccad-d95515c01347"
      },
      "execution_count": null,
      "outputs": [
        {
          "output_type": "display_data",
          "data": {
            "text/plain": [
              "<IPython.core.display.Javascript object>"
            ],
            "application/javascript": [
              "\n",
              "    async function download(id, filename, size) {\n",
              "      if (!google.colab.kernel.accessAllowed) {\n",
              "        return;\n",
              "      }\n",
              "      const div = document.createElement('div');\n",
              "      const label = document.createElement('label');\n",
              "      label.textContent = `Downloading \"${filename}\": `;\n",
              "      div.appendChild(label);\n",
              "      const progress = document.createElement('progress');\n",
              "      progress.max = size;\n",
              "      div.appendChild(progress);\n",
              "      document.body.appendChild(div);\n",
              "\n",
              "      const buffers = [];\n",
              "      let downloaded = 0;\n",
              "\n",
              "      const channel = await google.colab.kernel.comms.open(id);\n",
              "      // Send a message to notify the kernel that we're ready.\n",
              "      channel.send({})\n",
              "\n",
              "      for await (const message of channel.messages) {\n",
              "        // Send a message to notify the kernel that we're ready.\n",
              "        channel.send({})\n",
              "        if (message.buffers) {\n",
              "          for (const buffer of message.buffers) {\n",
              "            buffers.push(buffer);\n",
              "            downloaded += buffer.byteLength;\n",
              "            progress.value = downloaded;\n",
              "          }\n",
              "        }\n",
              "      }\n",
              "      const blob = new Blob(buffers, {type: 'application/binary'});\n",
              "      const a = document.createElement('a');\n",
              "      a.href = window.URL.createObjectURL(blob);\n",
              "      a.download = filename;\n",
              "      div.appendChild(a);\n",
              "      a.click();\n",
              "      div.remove();\n",
              "    }\n",
              "  "
            ]
          },
          "metadata": {}
        },
        {
          "output_type": "display_data",
          "data": {
            "text/plain": [
              "<IPython.core.display.Javascript object>"
            ],
            "application/javascript": [
              "download(\"download_01355d4f-8447-43bd-ba82-53ebbc372ac9\", \"ar_params.csv\", 2111)"
            ]
          },
          "metadata": {}
        },
        {
          "output_type": "display_data",
          "data": {
            "text/plain": [
              "<IPython.core.display.Javascript object>"
            ],
            "application/javascript": [
              "\n",
              "    async function download(id, filename, size) {\n",
              "      if (!google.colab.kernel.accessAllowed) {\n",
              "        return;\n",
              "      }\n",
              "      const div = document.createElement('div');\n",
              "      const label = document.createElement('label');\n",
              "      label.textContent = `Downloading \"${filename}\": `;\n",
              "      div.appendChild(label);\n",
              "      const progress = document.createElement('progress');\n",
              "      progress.max = size;\n",
              "      div.appendChild(progress);\n",
              "      document.body.appendChild(div);\n",
              "\n",
              "      const buffers = [];\n",
              "      let downloaded = 0;\n",
              "\n",
              "      const channel = await google.colab.kernel.comms.open(id);\n",
              "      // Send a message to notify the kernel that we're ready.\n",
              "      channel.send({})\n",
              "\n",
              "      for await (const message of channel.messages) {\n",
              "        // Send a message to notify the kernel that we're ready.\n",
              "        channel.send({})\n",
              "        if (message.buffers) {\n",
              "          for (const buffer of message.buffers) {\n",
              "            buffers.push(buffer);\n",
              "            downloaded += buffer.byteLength;\n",
              "            progress.value = downloaded;\n",
              "          }\n",
              "        }\n",
              "      }\n",
              "      const blob = new Blob(buffers, {type: 'application/binary'});\n",
              "      const a = document.createElement('a');\n",
              "      a.href = window.URL.createObjectURL(blob);\n",
              "      a.download = filename;\n",
              "      div.appendChild(a);\n",
              "      a.click();\n",
              "      div.remove();\n",
              "    }\n",
              "  "
            ]
          },
          "metadata": {}
        },
        {
          "output_type": "display_data",
          "data": {
            "text/plain": [
              "<IPython.core.display.Javascript object>"
            ],
            "application/javascript": [
              "download(\"download_5a55d904-163c-4152-bd0f-1f141e0da6cc\", \"var.csv\", 31)"
            ]
          },
          "metadata": {}
        },
        {
          "output_type": "display_data",
          "data": {
            "text/plain": [
              "<IPython.core.display.Javascript object>"
            ],
            "application/javascript": [
              "\n",
              "    async function download(id, filename, size) {\n",
              "      if (!google.colab.kernel.accessAllowed) {\n",
              "        return;\n",
              "      }\n",
              "      const div = document.createElement('div');\n",
              "      const label = document.createElement('label');\n",
              "      label.textContent = `Downloading \"${filename}\": `;\n",
              "      div.appendChild(label);\n",
              "      const progress = document.createElement('progress');\n",
              "      progress.max = size;\n",
              "      div.appendChild(progress);\n",
              "      document.body.appendChild(div);\n",
              "\n",
              "      const buffers = [];\n",
              "      let downloaded = 0;\n",
              "\n",
              "      const channel = await google.colab.kernel.comms.open(id);\n",
              "      // Send a message to notify the kernel that we're ready.\n",
              "      channel.send({})\n",
              "\n",
              "      for await (const message of channel.messages) {\n",
              "        // Send a message to notify the kernel that we're ready.\n",
              "        channel.send({})\n",
              "        if (message.buffers) {\n",
              "          for (const buffer of message.buffers) {\n",
              "            buffers.push(buffer);\n",
              "            downloaded += buffer.byteLength;\n",
              "            progress.value = downloaded;\n",
              "          }\n",
              "        }\n",
              "      }\n",
              "      const blob = new Blob(buffers, {type: 'application/binary'});\n",
              "      const a = document.createElement('a');\n",
              "      a.href = window.URL.createObjectURL(blob);\n",
              "      a.download = filename;\n",
              "      div.appendChild(a);\n",
              "      a.click();\n",
              "      div.remove();\n",
              "    }\n",
              "  "
            ]
          },
          "metadata": {}
        },
        {
          "output_type": "display_data",
          "data": {
            "text/plain": [
              "<IPython.core.display.Javascript object>"
            ],
            "application/javascript": [
              "download(\"download_41800aa2-748c-4937-95bc-1e3f00828dc0\", \"data_parameters.csv\", 15)"
            ]
          },
          "metadata": {}
        }
      ]
    },
    {
      "cell_type": "markdown",
      "metadata": {
        "id": "NXrfhYG3sOdv"
      },
      "source": [
        "# **Part 2: Simulation**"
      ]
    },
    {
      "cell_type": "markdown",
      "metadata": {
        "id": "QvZr3i5ESVhl"
      },
      "source": [
        "## Load model parameters from a previously trained AR model\n",
        "\n",
        "Once the cell below is run, click '*Choose Files*' and select the ***ar_params.csv*** file, followed by the ***var.csv*** file, and lastly, the ***data_parameters.csv*** file.  \n",
        "\n",
        "**If you have just trained a model, you may skip the code cell below.**"
      ]
    },
    {
      "cell_type": "code",
      "metadata": {
        "id": "1S74VE0mSVti",
        "colab": {
          "resources": {
            "http://localhost:8080/nbextensions/google.colab/files.js": {
              "data": "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",
              "ok": true,
              "headers": [
                [
                  "content-type",
                  "application/javascript"
                ]
              ],
              "status": 200,
              "status_text": ""
            }
          },
          "base_uri": "https://localhost:8080/",
          "height": 184
        },
        "outputId": "657cbff5-38a3-4275-c8f5-2dba88050e35"
      },
      "source": [
        "uploaded_ar_params = files.upload()\n",
        "ar_params_csv = pd.read_csv(\"ar_params.csv\")\n",
        "ar_params_T = ar_params_csv.iloc[:,1]\n",
        "\n",
        "ar_params = ar_params_T.T\n",
        "ar_params = ar_params.to_numpy()\n",
        "\n",
        "uploaded_var = files.upload()\n",
        "var_csv = pd.read_csv(\"var.csv\")\n",
        "var = var_csv.iloc[0,1]\n",
        "\n",
        "uploaded_data_parameters = files.upload()\n",
        "data_parameters = pd.read_csv(\"data_parameters.csv\", index_col=0)\n",
        "fs = data_parameters.iloc[0,0]\n",
        "new_fs = data_parameters.iloc[1,0]\n"
      ],
      "execution_count": null,
      "outputs": [
        {
          "output_type": "display_data",
          "data": {
            "text/plain": [
              "<IPython.core.display.HTML object>"
            ],
            "text/html": [
              "\n",
              "     <input type=\"file\" id=\"files-22810a49-7245-4961-a5c1-28fd8e5a2a2e\" name=\"files[]\" multiple disabled\n",
              "        style=\"border:none\" />\n",
              "     <output id=\"result-22810a49-7245-4961-a5c1-28fd8e5a2a2e\">\n",
              "      Upload widget is only available when the cell has been executed in the\n",
              "      current browser session. Please rerun this cell to enable.\n",
              "      </output>\n",
              "      <script src=\"/nbextensions/google.colab/files.js\"></script> "
            ]
          },
          "metadata": {}
        },
        {
          "output_type": "stream",
          "name": "stdout",
          "text": [
            "Saving ar_params.csv to ar_params.csv\n"
          ]
        },
        {
          "output_type": "display_data",
          "data": {
            "text/plain": [
              "<IPython.core.display.HTML object>"
            ],
            "text/html": [
              "\n",
              "     <input type=\"file\" id=\"files-289a28f2-a5ce-41d2-a132-d15e67a478ce\" name=\"files[]\" multiple disabled\n",
              "        style=\"border:none\" />\n",
              "     <output id=\"result-289a28f2-a5ce-41d2-a132-d15e67a478ce\">\n",
              "      Upload widget is only available when the cell has been executed in the\n",
              "      current browser session. Please rerun this cell to enable.\n",
              "      </output>\n",
              "      <script src=\"/nbextensions/google.colab/files.js\"></script> "
            ]
          },
          "metadata": {}
        },
        {
          "output_type": "stream",
          "name": "stdout",
          "text": [
            "Saving var.csv to var.csv\n"
          ]
        },
        {
          "output_type": "display_data",
          "data": {
            "text/plain": [
              "<IPython.core.display.HTML object>"
            ],
            "text/html": [
              "\n",
              "     <input type=\"file\" id=\"files-aeaa8e19-8b68-47a7-97f5-240edca2ce64\" name=\"files[]\" multiple disabled\n",
              "        style=\"border:none\" />\n",
              "     <output id=\"result-aeaa8e19-8b68-47a7-97f5-240edca2ce64\">\n",
              "      Upload widget is only available when the cell has been executed in the\n",
              "      current browser session. Please rerun this cell to enable.\n",
              "      </output>\n",
              "      <script src=\"/nbextensions/google.colab/files.js\"></script> "
            ]
          },
          "metadata": {}
        },
        {
          "output_type": "stream",
          "name": "stdout",
          "text": [
            "Saving data_parameters.csv to data_parameters.csv\n"
          ]
        }
      ]
    },
    {
      "cell_type": "markdown",
      "metadata": {
        "id": "-ILqdWsYouKU"
      },
      "source": [
        "## AR Simulation\n",
        "\n",
        "**ARgenerate** simulates data based on the trained AR model from ARprocess. Specify the length of the output signal by adjusting the value of ***output_length***, representing the length of the output signal in seconds (s).\n",
        "\n",
        "Returns the simulated motion artifact signal."
      ]
    },
    {
      "cell_type": "code",
      "metadata": {
        "id": "czKk2apNooxW"
      },
      "source": [
        "def ARgenerate(ar_params, var, output_length, new_fs, fs):\n",
        "  ar_params = np.insert(ar_params,0,1)\n",
        "  AR_output = signal.lfilter([1],ar_params,np.sqrt(var)*np.random.randn(1,output_length*new_fs))\n",
        "  AR_data_20 = AR_output[0]\n",
        "  #upsample data\n",
        "  dataAR = AR_data_20\n",
        "  down_factor = fs/new_fs\n",
        "  dataAR = signal.resample(AR_data_20, int((AR_data_20.size)*down_factor))\n",
        "  return dataAR\n",
        "\n",
        "#Specify length of output (in seconds) by changing output_length\n",
        "output_length = 200\n",
        "dataAR = ARgenerate(ar_params, var, output_length, new_fs, fs)"
      ],
      "execution_count": null,
      "outputs": []
    },
    {
      "cell_type": "markdown",
      "metadata": {
        "id": "huKCmaJhKXrd"
      },
      "source": [
        "## Visualize Simulated Motion Artifact\n",
        "\n",
        "The cells below will allow you to view the output signal in the time domain as well as the power spectral density (PSD)."
      ]
    },
    {
      "cell_type": "code",
      "source": [
        "def find_psd_out(x, fs):\n",
        "    f, Pxx_den = signal.welch(x, fs = fs, nperseg = len(x)/5)\n",
        "    return(Pxx_den,f)\n",
        "\n",
        "pxx_out, f_out = find_psd_out(dataAR, fs)"
      ],
      "metadata": {
        "id": "YZbeBXrsY1RW"
      },
      "execution_count": null,
      "outputs": []
    },
    {
      "cell_type": "code",
      "source": [
        "#Plot output signal\n",
        "t_output = np.linspace(0, dataAR.size/fs, dataAR.size)\n",
        "#Preprocessed signal\n",
        "plt.subplot(2,1,1)\n",
        "plt.plot(t_output, dataAR)\n",
        "plt.xlim([0,10]) #Set time values to zoom on a part of the input signal (seconds)\n",
        "plt.ylim([-4,4]) #Adjust amplitude values for better viewing\n",
        "plt.title('Simulated Signal')\n",
        "plt.ylabel('Amplitude')\n",
        "plt.xlabel('Time (s)')\n",
        "\n",
        "#Plot low pass filtered and power normalized signal\n",
        "#ORIGINAL SIGNAL\n",
        "plt.subplot(2,1,2)\n",
        "plt.plot(f_out, 10*np.log10(pxx_out))\n",
        "plt.xlim([0,10]) #Frequency values (Hz) can be adjusted for better viewing\n",
        "plt.ylim([-35,10]) #Magnitude values (dB) can be adjusted for better viewing\n",
        "plt.title('Power Spectral Density of Simulated Signal')\n",
        "plt.ylabel('Magnitude (dB)')\n",
        "plt.xlabel('Frequency (Hz)')\n",
        "\n",
        "plt.subplots_adjust(left=None, bottom=None, right=None, top=1.5, wspace=None, hspace=0.5)"
      ],
      "metadata": {
        "colab": {
          "base_uri": "https://localhost:8080/",
          "height": 474
        },
        "id": "Be8UrPYNX85H",
        "outputId": "bf9976e2-52e2-4cd0-cc6d-1c57fc7b6929"
      },
      "execution_count": null,
      "outputs": [
        {
          "output_type": "display_data",
          "data": {
            "text/plain": [
              "<Figure size 432x288 with 2 Axes>"
            ],
            "image/png": "[encoded data removed]"
          },
          "metadata": {
            "needs_background": "light"
          }
        }
      ]
    },
    {
      "cell_type": "markdown",
      "metadata": {
        "id": "nFVGtiIl_Rzy"
      },
      "source": [
        "# Save the Generated Motion Artifact Data\n",
        "\n",
        "The simulated motion artifact signal can be saved in one of two ways.\n",
        "\n",
        "**Option 1: Save simulated motion artifact data directly to computer**\n",
        "\n",
        "In the cell below, change both instances of \"***generated_signal***\" to what you would like the file to be called. The file will be saved in *.csv* format."
      ]
    },
    {
      "cell_type": "code",
      "metadata": {
        "id": "2BRYzoJr_e7f",
        "colab": {
          "base_uri": "https://localhost:8080/",
          "height": 34
        },
        "outputId": "8657beef-8ca0-4855-bf12-313bc21b65c5"
      },
      "source": [
        "df = pd.DataFrame(dataAR)\n",
        "df.to_csv(\"generated_signal.csv\")\n",
        "files.download(\"generated_signal.csv\")"
      ],
      "execution_count": null,
      "outputs": [
        {
          "output_type": "display_data",
          "data": {
            "text/plain": [
              "<IPython.core.display.Javascript object>"
            ],
            "application/javascript": [
              "\n",
              "    async function download(id, filename, size) {\n",
              "      if (!google.colab.kernel.accessAllowed) {\n",
              "        return;\n",
              "      }\n",
              "      const div = document.createElement('div');\n",
              "      const label = document.createElement('label');\n",
              "      label.textContent = `Downloading \"${filename}\": `;\n",
              "      div.appendChild(label);\n",
              "      const progress = document.createElement('progress');\n",
              "      progress.max = size;\n",
              "      div.appendChild(progress);\n",
              "      document.body.appendChild(div);\n",
              "\n",
              "      const buffers = [];\n",
              "      let downloaded = 0;\n",
              "\n",
              "      const channel = await google.colab.kernel.comms.open(id);\n",
              "      // Send a message to notify the kernel that we're ready.\n",
              "      channel.send({})\n",
              "\n",
              "      for await (const message of channel.messages) {\n",
              "        // Send a message to notify the kernel that we're ready.\n",
              "        channel.send({})\n",
              "        if (message.buffers) {\n",
              "          for (const buffer of message.buffers) {\n",
              "            buffers.push(buffer);\n",
              "            downloaded += buffer.byteLength;\n",
              "            progress.value = downloaded;\n",
              "          }\n",
              "        }\n",
              "      }\n",
              "      const blob = new Blob(buffers, {type: 'application/binary'});\n",
              "      const a = document.createElement('a');\n",
              "      a.href = window.URL.createObjectURL(blob);\n",
              "      a.download = filename;\n",
              "      div.appendChild(a);\n",
              "      a.click();\n",
              "      div.remove();\n",
              "    }\n",
              "  "
            ]
          },
          "metadata": {}
        },
        {
          "output_type": "display_data",
          "data": {
            "text/plain": [
              "<IPython.core.display.Javascript object>"
            ],
            "application/javascript": [
              "download(\"download_60aefcfc-6677-44a1-9892-28bc9f50d0d6\", \"generated_signal.csv\", 10546696)"
            ]
          },
          "metadata": {}
        }
      ]
    },
    {
      "cell_type": "markdown",
      "metadata": {
        "id": "cC1TIafp_Yti"
      },
      "source": [
        "**Option 2: Save simulated motion artifact data to a file on Google Drive**\n",
        "\n",
        "Change the filename to what you would like to save the file as. You will also need to change the file path to adjust where the file is saved within your Google Drive. If you have not yet done so, ensure your Google Drive is mounted onto this notebook as seen in the first cell of \"Option 2\" of \"Uploading Sample Motion Artifact Data\". The file will be saved in *.csv* format.\n",
        "\n",
        "In the cell below, change 'NEW_FILE_NAME' and 'NEW_FILE_PATH' accordingly."
      ]
    },
    {
      "cell_type": "code",
      "metadata": {
        "id": "JGCCKgVr_TXw"
      },
      "source": [
        "df = pd.DataFrame(dataAR)\n",
        "filename = \"NEW_FILE_NAME\"\n",
        "df.to_csv(\"/content/drive/My Drive/NEW_FILE_PATH/{}.csv\".format(filename))"
      ],
      "execution_count": null,
      "outputs": []
    }
  ]
}