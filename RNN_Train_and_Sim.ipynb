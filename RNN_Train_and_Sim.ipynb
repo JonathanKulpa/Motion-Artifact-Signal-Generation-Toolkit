{
  "nbformat": 4,
  "nbformat_minor": 0,
  "metadata": {
    "colab": {
      "provenance": [],
      "authorship_tag": "ABX9TyPqXsQwdoKSylVtoCgYtXYh",
      "include_colab_link": true
    },
    "kernelspec": {
      "name": "python3",
      "display_name": "Python 3"
    },
    "language_info": {
      "name": "python"
    }
  },
  "cells": [
    {
      "cell_type": "markdown",
      "metadata": {
        "id": "view-in-github",
        "colab_type": "text"
      },
      "source": [
        "<a href=\"https://colab.research.google.com/github/JonathanKulpa/Motion-Artifact-Signal-Generation-Toolkit/blob/Branch1/RNN_Train_and_Sim.ipynb\" target=\"_parent\"><img src=\"https://colab.research.google.com/assets/colab-badge.svg\" alt=\"Open In Colab\"/></a>"
      ]
    },
    {
      "cell_type": "markdown",
      "metadata": {
        "id": "d8yhZOq1_eSV"
      },
      "source": [
        "# **RNN Training and Simulation**\n",
        "\n",
        "This python notebook allows you to train a Recurrent Neural Network (RNN) using a sample motion artifact signal, and output a simulated motion artifact signal using the model.\n",
        "\n",
        "If you plan on training the model and simulating a motion artifact signal from the model, run all the cells.\n",
        "\n",
        "If you only plan on training the model, run the cells up until the beginning of Part 2.\n",
        "\n",
        "If you plan on simulating a motion artifact signal using a model that was trained previously, run the following  two cells for loading the required libraries and defining functions, and then continue running from Part 2.\n",
        "\n",
        "To ensure the model can be trained quickly, set the python notebook to run on a GPU using the setting below in Google Colab.\n",
        "\n",
        "Edit > Notebook Settings > GPU"
      ]
    },
    {
      "cell_type": "code",
      "metadata": {
        "id": "0iWlh7gG_dLp"
      },
      "source": [
        "import tensorflow as tf\n",
        "import numpy as np\n",
        "import matplotlib.pyplot as plt\n",
        "import pandas as pd\n",
        "from scipy import signal, mean\n",
        "from scipy.signal import butter, freqz\n",
        "from scipy.fftpack import fft\n",
        "import os\n",
        "from tensorflow import keras\n",
        "import datetime\n",
        "import scipy.io.wavfile\n",
        "from scipy.interpolate import splrep, splev\n",
        "import io\n",
        "from google.colab import files\n",
        "from keras import regularizers\n",
        "from zipfile import ZipFile\n",
        "from os.path import basename"
      ],
      "execution_count": null,
      "outputs": []
    },
    {
      "cell_type": "markdown",
      "metadata": {
        "id": "eZQTLOJDGlo0"
      },
      "source": [
        "## RNN Functions\n",
        "\n",
        "**split_input_target:** Takes a window of data and converts it into an input and a target.\n",
        "\n",
        "**build_model:** Provides the RNN model that will be trained (3 GRU layers)\n",
        "\n",
        "**loss:** Defines the loss function."
      ]
    },
    {
      "cell_type": "code",
      "metadata": {
        "id": "3m0Wqt6_Gtwj"
      },
      "source": [
        "def split_input_target(chunk):\n",
        "  input = chunk[:-1]\n",
        "  target = chunk[1:]\n",
        "  return input, target\n",
        "\n",
        "def build_model(numUniqueCharacters, embedding_dim, rnn_units, batch_size):\n",
        "  model = tf.keras.Sequential([\n",
        "        tf.keras.layers.Embedding(numUniqueCharacters, embedding_dim, batch_input_shape=[batch_size, None]),\n",
        "        tf.keras.layers.GRU(rnn_units, return_sequences=True, recurrent_initializer='glorot_uniform',stateful=True), #,recurrent_regularizer = keras.regularizers.l1_l2(l1=0.01, l2=0.01)),\n",
        "        tf.keras.layers.GRU(rnn_units, return_sequences=True, recurrent_initializer='glorot_uniform',stateful=True), #,recurrent_regularizer = keras.regularizers.l1_l2(l1=0.01, l2=0.01)),\n",
        "        tf.keras.layers.GRU(rnn_units, return_sequences=True, recurrent_initializer='glorot_uniform',stateful=True), #,recurrent_regularizer = keras.regularizers.l1_l2(l1=0.01, l2=0.01)),\n",
        "  tf.keras.layers.Dense(numUniqueCharacters)\n",
        "])\n",
        "  return model\n",
        "\n",
        "def loss(labels, logits):\n",
        "  return keras.losses.sparse_categorical_crossentropy(labels, logits, from_logits=True)\n"
      ],
      "execution_count": null,
      "outputs": []
    },
    {
      "cell_type": "markdown",
      "source": [
        "**If you are simulating a signal using a previously trained model, skip to Part 2.**"
      ],
      "metadata": {
        "id": "828720jFdXYB"
      }
    },
    {
      "cell_type": "markdown",
      "metadata": {
        "id": "fM-_woAtMH6i"
      },
      "source": [
        "# **Uploading Sample Signal and Preprocessing**\n",
        "\n",
        "Load sample motion artifact and preprocessing"
      ]
    },
    {
      "cell_type": "markdown",
      "metadata": {
        "id": "fDTtOfj__xXj"
      },
      "source": [
        "## Uploading Sample Motion Artifact Data\n",
        "\n",
        "Choose the sample motion artifact data you would like to use to train the model. File must be in *.csv* format to upload.\n",
        "\n",
        "There are two options to upload the file:\n",
        "\n",
        "**Option 1: Upload directly from your PC**\n",
        "\n",
        "Change the filename in the code to match the sample motion artifact data you would like to use to train the model. Once you run the code cell below, click on \"*Choose Files*\" and select the .csv file you would like to use.\n",
        "\n",
        "In the cell below, change \"*filename*\" accordingly."
      ]
    },
    {
      "cell_type": "code",
      "metadata": {
        "colab": {
          "base_uri": "https://localhost:8080/",
          "height": 73
        },
        "id": "Zim4BR1sAY2N",
        "outputId": "b63ddb3b-8a26-4f93-8642-e1e6255da98a"
      },
      "source": [
        "uploaded  = files.upload()\n",
        "data_save = pd.read_csv(io.BytesIO(uploaded['TrainingSignal8.csv']))\n",
        "\n",
        "x= data_save[:]\n",
        "#x = x.dropna()"
      ],
      "execution_count": null,
      "outputs": [
        {
          "output_type": "display_data",
          "data": {
            "text/plain": [
              "<IPython.core.display.HTML object>"
            ],
            "text/html": [
              "\n",
              "     <input type=\"file\" id=\"files-9dcc1bfa-2700-41e7-bb1e-bc8111a4b45e\" name=\"files[]\" multiple disabled\n",
              "        style=\"border:none\" />\n",
              "     <output id=\"result-9dcc1bfa-2700-41e7-bb1e-bc8111a4b45e\">\n",
              "      Upload widget is only available when the cell has been executed in the\n",
              "      current browser session. Please rerun this cell to enable.\n",
              "      </output>\n",
              "      <script>// Copyright 2017 Google LLC\n",
              "//\n",
              "// Licensed under the Apache License, Version 2.0 (the \"License\");\n",
              "// you may not use this file except in compliance with the License.\n",
              "// You may obtain a copy of the License at\n",
              "//\n",
              "//      http://www.apache.org/licenses/LICENSE-2.0\n",
              "//\n",
              "// Unless required by applicable law or agreed to in writing, software\n",
              "// distributed under the License is distributed on an \"AS IS\" BASIS,\n",
              "// WITHOUT WARRANTIES OR CONDITIONS OF ANY KIND, either express or implied.\n",
              "// See the License for the specific language governing permissions and\n",
              "// limitations under the License.\n",
              "\n",
              "/**\n",
              " * @fileoverview Helpers for google.colab Python module.\n",
              " */\n",
              "(function(scope) {\n",
              "function span(text, styleAttributes = {}) {\n",
              "  const element = document.createElement('span');\n",
              "  element.textContent = text;\n",
              "  for (const key of Object.keys(styleAttributes)) {\n",
              "    element.style[key] = styleAttributes[key];\n",
              "  }\n",
              "  return element;\n",
              "}\n",
              "\n",
              "// Max number of bytes which will be uploaded at a time.\n",
              "const MAX_PAYLOAD_SIZE = 100 * 1024;\n",
              "\n",
              "function _uploadFiles(inputId, outputId) {\n",
              "  const steps = uploadFilesStep(inputId, outputId);\n",
              "  const outputElement = document.getElementById(outputId);\n",
              "  // Cache steps on the outputElement to make it available for the next call\n",
              "  // to uploadFilesContinue from Python.\n",
              "  outputElement.steps = steps;\n",
              "\n",
              "  return _uploadFilesContinue(outputId);\n",
              "}\n",
              "\n",
              "// This is roughly an async generator (not supported in the browser yet),\n",
              "// where there are multiple asynchronous steps and the Python side is going\n",
              "// to poll for completion of each step.\n",
              "// This uses a Promise to block the python side on completion of each step,\n",
              "// then passes the result of the previous step as the input to the next step.\n",
              "function _uploadFilesContinue(outputId) {\n",
              "  const outputElement = document.getElementById(outputId);\n",
              "  const steps = outputElement.steps;\n",
              "\n",
              "  const next = steps.next(outputElement.lastPromiseValue);\n",
              "  return Promise.resolve(next.value.promise).then((value) => {\n",
              "    // Cache the last promise value to make it available to the next\n",
              "    // step of the generator.\n",
              "    outputElement.lastPromiseValue = value;\n",
              "    return next.value.response;\n",
              "  });\n",
              "}\n",
              "\n",
              "/**\n",
              " * Generator function which is called between each async step of the upload\n",
              " * process.\n",
              " * @param {string} inputId Element ID of the input file picker element.\n",
              " * @param {string} outputId Element ID of the output display.\n",
              " * @return {!Iterable<!Object>} Iterable of next steps.\n",
              " */\n",
              "function* uploadFilesStep(inputId, outputId) {\n",
              "  const inputElement = document.getElementById(inputId);\n",
              "  inputElement.disabled = false;\n",
              "\n",
              "  const outputElement = document.getElementById(outputId);\n",
              "  outputElement.innerHTML = '';\n",
              "\n",
              "  const pickedPromise = new Promise((resolve) => {\n",
              "    inputElement.addEventListener('change', (e) => {\n",
              "      resolve(e.target.files);\n",
              "    });\n",
              "  });\n",
              "\n",
              "  const cancel = document.createElement('button');\n",
              "  inputElement.parentElement.appendChild(cancel);\n",
              "  cancel.textContent = 'Cancel upload';\n",
              "  const cancelPromise = new Promise((resolve) => {\n",
              "    cancel.onclick = () => {\n",
              "      resolve(null);\n",
              "    };\n",
              "  });\n",
              "\n",
              "  // Wait for the user to pick the files.\n",
              "  const files = yield {\n",
              "    promise: Promise.race([pickedPromise, cancelPromise]),\n",
              "    response: {\n",
              "      action: 'starting',\n",
              "    }\n",
              "  };\n",
              "\n",
              "  cancel.remove();\n",
              "\n",
              "  // Disable the input element since further picks are not allowed.\n",
              "  inputElement.disabled = true;\n",
              "\n",
              "  if (!files) {\n",
              "    return {\n",
              "      response: {\n",
              "        action: 'complete',\n",
              "      }\n",
              "    };\n",
              "  }\n",
              "\n",
              "  for (const file of files) {\n",
              "    const li = document.createElement('li');\n",
              "    li.append(span(file.name, {fontWeight: 'bold'}));\n",
              "    li.append(span(\n",
              "        `(${file.type || 'n/a'}) - ${file.size} bytes, ` +\n",
              "        `last modified: ${\n",
              "            file.lastModifiedDate ? file.lastModifiedDate.toLocaleDateString() :\n",
              "                                    'n/a'} - `));\n",
              "    const percent = span('0% done');\n",
              "    li.appendChild(percent);\n",
              "\n",
              "    outputElement.appendChild(li);\n",
              "\n",
              "    const fileDataPromise = new Promise((resolve) => {\n",
              "      const reader = new FileReader();\n",
              "      reader.onload = (e) => {\n",
              "        resolve(e.target.result);\n",
              "      };\n",
              "      reader.readAsArrayBuffer(file);\n",
              "    });\n",
              "    // Wait for the data to be ready.\n",
              "    let fileData = yield {\n",
              "      promise: fileDataPromise,\n",
              "      response: {\n",
              "        action: 'continue',\n",
              "      }\n",
              "    };\n",
              "\n",
              "    // Use a chunked sending to avoid message size limits. See b/62115660.\n",
              "    let position = 0;\n",
              "    do {\n",
              "      const length = Math.min(fileData.byteLength - position, MAX_PAYLOAD_SIZE);\n",
              "      const chunk = new Uint8Array(fileData, position, length);\n",
              "      position += length;\n",
              "\n",
              "      const base64 = btoa(String.fromCharCode.apply(null, chunk));\n",
              "      yield {\n",
              "        response: {\n",
              "          action: 'append',\n",
              "          file: file.name,\n",
              "          data: base64,\n",
              "        },\n",
              "      };\n",
              "\n",
              "      let percentDone = fileData.byteLength === 0 ?\n",
              "          100 :\n",
              "          Math.round((position / fileData.byteLength) * 100);\n",
              "      percent.textContent = `${percentDone}% done`;\n",
              "\n",
              "    } while (position < fileData.byteLength);\n",
              "  }\n",
              "\n",
              "  // All done.\n",
              "  yield {\n",
              "    response: {\n",
              "      action: 'complete',\n",
              "    }\n",
              "  };\n",
              "}\n",
              "\n",
              "scope.google = scope.google || {};\n",
              "scope.google.colab = scope.google.colab || {};\n",
              "scope.google.colab._files = {\n",
              "  _uploadFiles,\n",
              "  _uploadFilesContinue,\n",
              "};\n",
              "})(self);\n",
              "</script> "
            ]
          },
          "metadata": {}
        },
        {
          "output_type": "stream",
          "name": "stdout",
          "text": [
            "Saving TrainingSignal8.csv to TrainingSignal8.csv\n"
          ]
        }
      ]
    },
    {
      "cell_type": "markdown",
      "metadata": {
        "id": "wPevgum-AdCQ"
      },
      "source": [
        "**Option 2: Upload from files saved on Google Drive**\n",
        "\n",
        "Firstly, you will need to mount your Google Drive onto this Google Colab session.\n",
        "\n",
        "This is done in the first code cell below. Upon running this cell you will be asked to sign into your Google account, from there you will need to copy a password and paste it back here in the Google Colab session. You will then be able to load and save files to your Google Drive directly from Google Colab."
      ]
    },
    {
      "cell_type": "code",
      "metadata": {
        "id": "nAWsEvc4Agho"
      },
      "source": [
        "#Run this cell to mount your Google Drive\n",
        "from google.colab import drive\n",
        "drive.mount('/content/drive')"
      ],
      "execution_count": null,
      "outputs": []
    },
    {
      "cell_type": "markdown",
      "metadata": {
        "id": "S47eMrFXg4oi"
      },
      "source": [
        "Secondly, change the filename in the code below to match the sample motion artifact signal file you would like to use to train the model. You will also need to ensure the file path matches that of your file from your Google Drive.\n",
        "\n",
        "If you are using a previously trained model, ensure that the motion artifact signal being uploaded matches the signal that was used to train the model.\n",
        "\n",
        "In the cell below, change 'YOUR_FILE_NAME' and 'YOUR_FILE_PATH' accordingly."
      ]
    },
    {
      "cell_type": "code",
      "metadata": {
        "id": "-DJK0ALLAlOd"
      },
      "source": [
        "#Run this cell to download your specific filename\n",
        "filename = \"YOUR_FILE_NAME\"\n",
        "path = \"/content/drive/My Drive/YOUR_FILE_PATH/{}.csv\".format(filename)\n",
        "data_save = pd.read_csv(path)\n",
        "\n",
        "x= data_save[\"x\"]\n",
        "x = x.dropna()"
      ],
      "execution_count": null,
      "outputs": []
    },
    {
      "cell_type": "markdown",
      "metadata": {
        "id": "hF_L_sVwAqya"
      },
      "source": [
        "## Preprocessing and Plotting\n",
        "\n",
        "Adjust the sampling frequency by changing ***fs*** to match the sampling frequency of the input signal."
      ]
    },
    {
      "cell_type": "code",
      "metadata": {
        "colab": {
          "base_uri": "https://localhost:8080/",
          "height": 489
        },
        "id": "F7i_Smwl7oxm",
        "outputId": "1ec26dd9-d7ea-4dfd-b1f3-d1fb00cac0a1"
      },
      "source": [
        "fs = 128\n",
        "x = np.asarray(x)\n",
        "\n",
        "lenx = np.size(x)\n",
        "t_input = np.linspace(0, lenx/fs, lenx)\n",
        "\n",
        "# Visualize the generated motion artifact signal over time\n",
        "plt.plot(t_input, x)\n",
        "plt.xlabel('Time(s)')\n",
        "plt.ylabel('Amplitude')\n",
        "plt.title('Input signal')"
      ],
      "execution_count": null,
      "outputs": [
        {
          "output_type": "execute_result",
          "data": {
            "text/plain": [
              "Text(0.5, 1.0, 'Input signal')"
            ]
          },
          "metadata": {},
          "execution_count": 4
        },
        {
          "output_type": "display_data",
          "data": {
            "text/plain": [
              "<Figure size 640x480 with 1 Axes>"
            ],
            "image/png": "[encoded data removed]"
          },
          "metadata": {}
        }
      ]
    },
    {
      "cell_type": "markdown",
      "source": [
        "###Lowpass Filter"
      ],
      "metadata": {
        "id": "Xt5MCThnMEMM"
      }
    },
    {
      "cell_type": "code",
      "source": [
        "def butter_lowpass(cutoff, fs, order):\n",
        "    nyq = 0.5 * fs\n",
        "    normal_cutoff = cutoff / nyq\n",
        "    b, a = butter(order, normal_cutoff, btype='low', analog=False)\n",
        "    return b, a\n",
        "\n",
        "def butter_lowpass_filter(data, cutoff, fs, order):\n",
        "    b, a = butter_lowpass(cutoff, fs, order=order)\n",
        "    y = signal.filtfilt(b, a, data, axis=0)\n",
        "    return y"
      ],
      "metadata": {
        "id": "hywCZWupMIVm"
      },
      "execution_count": null,
      "outputs": []
    },
    {
      "cell_type": "code",
      "source": [
        "# Setting standard filter requirements.\n",
        "\n",
        "# Specify the order of the lowpass filter\n",
        "order = 6\n",
        "# Specify the cutoff frequency for the lowpass filter\n",
        "cutoff = 20\n",
        "\n",
        "y = butter_lowpass_filter(x, cutoff, fs, order)"
      ],
      "metadata": {
        "id": "MYr_pOc8MK1i"
      },
      "execution_count": null,
      "outputs": []
    },
    {
      "cell_type": "code",
      "source": [
        "b, a = butter_lowpass(cutoff, fs, order)\n",
        "\n",
        "# Plotting the frequency response of the lowpass filter.\n",
        "w, h = freqz(b, a, worN=8000)\n",
        "#plt.subplot(2, 1, 1)\n",
        "plt.plot(0.5*fs*w/np.pi, np.abs(h), 'b')\n",
        "plt.plot(cutoff, 0.5*np.sqrt(2), 'ko')\n",
        "plt.axvline(cutoff, color='k')\n",
        "plt.xlim(0, 40)\n",
        "plt.title(\"Lowpass Filter Frequency Response\")\n",
        "plt.xlabel('Frequency [Hz]')\n",
        "plt.grid()"
      ],
      "metadata": {
        "id": "cNnrcH8GMNIW",
        "colab": {
          "base_uri": "https://localhost:8080/",
          "height": 472
        },
        "outputId": "f22f8b44-c08c-4500-aec5-30c5b87fe84c"
      },
      "execution_count": null,
      "outputs": [
        {
          "output_type": "display_data",
          "data": {
            "text/plain": [
              "<Figure size 640x480 with 1 Axes>"
            ],
            "image/png": "[encoded data removed]"
          },
          "metadata": {}
        }
      ]
    },
    {
      "cell_type": "markdown",
      "metadata": {
        "id": "Xvd6IqU87pD0"
      },
      "source": [
        "###Power Normalization"
      ]
    },
    {
      "cell_type": "code",
      "metadata": {
        "id": "Y5XT-eauCF3V"
      },
      "source": [
        "signal_power = np.sum(np.square(y))/len(y)\n",
        "z = y/np.sqrt(signal_power)"
      ],
      "execution_count": null,
      "outputs": []
    },
    {
      "cell_type": "markdown",
      "metadata": {
        "id": "dOiTLnSgFdAo"
      },
      "source": [
        "###Downsample\n",
        "\n",
        "Downsample the input signal."
      ]
    },
    {
      "cell_type": "code",
      "metadata": {
        "id": "MZnVVWmNFv8Q",
        "colab": {
          "base_uri": "https://localhost:8080/"
        },
        "outputId": "1ab1f7f1-fe50-404a-c58f-3795d8ab00a5"
      },
      "source": [
        "new_fs = 67\n",
        "down_factor = fs/new_fs\n",
        "data = signal.resample(z, np.int(len(z)/down_factor))"
      ],
      "execution_count": null,
      "outputs": [
        {
          "output_type": "stream",
          "name": "stderr",
          "text": [
            "<ipython-input-9-4ce3777ef379>:3: DeprecationWarning: `np.int` is a deprecated alias for the builtin `int`. To silence this warning, use `int` by itself. Doing this will not modify any behavior and is safe. When replacing `np.int`, you may wish to use e.g. `np.int64` or `np.int32` to specify the precision. If you wish to review your current use, check the release note link for additional information.\n",
            "Deprecated in NumPy 1.20; for more details and guidance: https://numpy.org/devdocs/release/1.20.0-notes.html#deprecations\n",
            "  data = signal.resample(z, np.int(len(z)/down_factor))\n"
          ]
        }
      ]
    },
    {
      "cell_type": "markdown",
      "source": [
        "###Plot Preprocessed Signal"
      ],
      "metadata": {
        "id": "nOPSC5ZFLbGW"
      }
    },
    {
      "cell_type": "code",
      "source": [
        "def find_psd(data2, new_fs):\n",
        "    f, Pxx_den = signal.welch(data2, fs = 67)#, nperseg = len(z)/5)\n",
        "    return(Pxx_den,f)\n",
        "\n",
        "pxx, f = find_psd(data, new_fs)"
      ],
      "metadata": {
        "id": "1SxeFl3xLePR",
        "colab": {
          "base_uri": "https://localhost:8080/"
        },
        "outputId": "70a1d6f9-ff8a-4dc6-f703-2b9e164f6b6a"
      },
      "execution_count": null,
      "outputs": [
        {
          "output_type": "stream",
          "name": "stderr",
          "text": [
            "/usr/local/lib/python3.10/dist-packages/scipy/signal/_spectral_py.py:2014: UserWarning: nperseg = 256 is greater than input length  = 1, using nperseg = 1\n",
            "  warnings.warn('nperseg = {0:d} is greater than input length '\n"
          ]
        }
      ]
    },
    {
      "cell_type": "code",
      "source": [
        "#Plot preprocessed signal\n",
        "length_z = np.size(data)\n",
        "t_processed = np.linspace(0, length_z/new_fs, length_z)\n",
        "#Preprocessed signal\n",
        "plt.subplot(2,1,1)\n",
        "plt.plot(t_processed, data)\n",
        "plt.xlim([0,10]) #Set time values to zoom on a part of the input signal (seconds)\n",
        "plt.ylim([-4,4]) #Adjust amplitude values for better viewing\n",
        "plt.title('Preprocessed Sample Signal')\n",
        "plt.ylabel('Amplitude')\n",
        "plt.xlabel('Time (s)')\n",
        "\n",
        "#Plot PSD plot of preprocessed signal\n",
        "plt.subplot(2,1,2)\n",
        "plt.plot(f, 10*np.log10(pxx))\n",
        "plt.xlim([0,10]) #Frequency values (Hz) can be adjusted for better viewing\n",
        "plt.ylim([-35,10]) #Magnitude values (dB) can be adjusted for better viewing\n",
        "plt.title('Power Spectral Density of Preprocessed Sample Signal')\n",
        "plt.ylabel('Magnitude (dB)')\n",
        "plt.xlabel('Frequency (Hz)')\n",
        "\n",
        "plt.subplots_adjust(left=None, bottom=None, right=None, top=1.5, wspace=None, hspace=0.5)"
      ],
      "metadata": {
        "colab": {
          "base_uri": "https://localhost:8080/",
          "height": 850
        },
        "id": "hSujkh2hLcnD",
        "outputId": "627d560c-f1a4-432f-ed72-856443c1bd25"
      },
      "execution_count": null,
      "outputs": [
        {
          "output_type": "stream",
          "name": "stderr",
          "text": [
            "<ipython-input-11-d39dd0fa1dc8>:15: RuntimeWarning: divide by zero encountered in log10\n",
            "  plt.plot(f, 10*np.log10(pxx))\n"
          ]
        },
        {
          "output_type": "error",
          "ename": "ValueError",
          "evalue": "ignored",
          "traceback": [
            "\u001b[0;31m---------------------------------------------------------------------------\u001b[0m",
            "\u001b[0;31mValueError\u001b[0m                                Traceback (most recent call last)",
            "\u001b[0;32m<ipython-input-11-d39dd0fa1dc8>\u001b[0m in \u001b[0;36m<cell line: 15>\u001b[0;34m()\u001b[0m\n\u001b[1;32m     13\u001b[0m \u001b[0;31m#Plot PSD plot of preprocessed signal\u001b[0m\u001b[0;34m\u001b[0m\u001b[0;34m\u001b[0m\u001b[0m\n\u001b[1;32m     14\u001b[0m \u001b[0mplt\u001b[0m\u001b[0;34m.\u001b[0m\u001b[0msubplot\u001b[0m\u001b[0;34m(\u001b[0m\u001b[0;36m2\u001b[0m\u001b[0;34m,\u001b[0m\u001b[0;36m1\u001b[0m\u001b[0;34m,\u001b[0m\u001b[0;36m2\u001b[0m\u001b[0;34m)\u001b[0m\u001b[0;34m\u001b[0m\u001b[0;34m\u001b[0m\u001b[0m\n\u001b[0;32m---> 15\u001b[0;31m \u001b[0mplt\u001b[0m\u001b[0;34m.\u001b[0m\u001b[0mplot\u001b[0m\u001b[0;34m(\u001b[0m\u001b[0mf\u001b[0m\u001b[0;34m,\u001b[0m \u001b[0;36m10\u001b[0m\u001b[0;34m*\u001b[0m\u001b[0mnp\u001b[0m\u001b[0;34m.\u001b[0m\u001b[0mlog10\u001b[0m\u001b[0;34m(\u001b[0m\u001b[0mpxx\u001b[0m\u001b[0;34m)\u001b[0m\u001b[0;34m)\u001b[0m\u001b[0;34m\u001b[0m\u001b[0;34m\u001b[0m\u001b[0m\n\u001b[0m\u001b[1;32m     16\u001b[0m \u001b[0mplt\u001b[0m\u001b[0;34m.\u001b[0m\u001b[0mxlim\u001b[0m\u001b[0;34m(\u001b[0m\u001b[0;34m[\u001b[0m\u001b[0;36m0\u001b[0m\u001b[0;34m,\u001b[0m\u001b[0;36m10\u001b[0m\u001b[0;34m]\u001b[0m\u001b[0;34m)\u001b[0m \u001b[0;31m#Frequency values (Hz) can be adjusted for better viewing\u001b[0m\u001b[0;34m\u001b[0m\u001b[0;34m\u001b[0m\u001b[0m\n\u001b[1;32m     17\u001b[0m \u001b[0mplt\u001b[0m\u001b[0;34m.\u001b[0m\u001b[0mylim\u001b[0m\u001b[0;34m(\u001b[0m\u001b[0;34m[\u001b[0m\u001b[0;34m-\u001b[0m\u001b[0;36m35\u001b[0m\u001b[0;34m,\u001b[0m\u001b[0;36m10\u001b[0m\u001b[0;34m]\u001b[0m\u001b[0;34m)\u001b[0m \u001b[0;31m#Magnitude values (dB) can be adjusted for better viewing\u001b[0m\u001b[0;34m\u001b[0m\u001b[0;34m\u001b[0m\u001b[0m\n",
            "\u001b[0;32m/usr/local/lib/python3.10/dist-packages/matplotlib/pyplot.py\u001b[0m in \u001b[0;36mplot\u001b[0;34m(scalex, scaley, data, *args, **kwargs)\u001b[0m\n\u001b[1;32m   2810\u001b[0m \u001b[0;34m@\u001b[0m\u001b[0m_copy_docstring_and_deprecators\u001b[0m\u001b[0;34m(\u001b[0m\u001b[0mAxes\u001b[0m\u001b[0;34m.\u001b[0m\u001b[0mplot\u001b[0m\u001b[0;34m)\u001b[0m\u001b[0;34m\u001b[0m\u001b[0;34m\u001b[0m\u001b[0m\n\u001b[1;32m   2811\u001b[0m \u001b[0;32mdef\u001b[0m \u001b[0mplot\u001b[0m\u001b[0;34m(\u001b[0m\u001b[0;34m*\u001b[0m\u001b[0margs\u001b[0m\u001b[0;34m,\u001b[0m \u001b[0mscalex\u001b[0m\u001b[0;34m=\u001b[0m\u001b[0;32mTrue\u001b[0m\u001b[0;34m,\u001b[0m \u001b[0mscaley\u001b[0m\u001b[0;34m=\u001b[0m\u001b[0;32mTrue\u001b[0m\u001b[0;34m,\u001b[0m \u001b[0mdata\u001b[0m\u001b[0;34m=\u001b[0m\u001b[0;32mNone\u001b[0m\u001b[0;34m,\u001b[0m \u001b[0;34m**\u001b[0m\u001b[0mkwargs\u001b[0m\u001b[0;34m)\u001b[0m\u001b[0;34m:\u001b[0m\u001b[0;34m\u001b[0m\u001b[0;34m\u001b[0m\u001b[0m\n\u001b[0;32m-> 2812\u001b[0;31m     return gca().plot(\n\u001b[0m\u001b[1;32m   2813\u001b[0m         \u001b[0;34m*\u001b[0m\u001b[0margs\u001b[0m\u001b[0;34m,\u001b[0m \u001b[0mscalex\u001b[0m\u001b[0;34m=\u001b[0m\u001b[0mscalex\u001b[0m\u001b[0;34m,\u001b[0m \u001b[0mscaley\u001b[0m\u001b[0;34m=\u001b[0m\u001b[0mscaley\u001b[0m\u001b[0;34m,\u001b[0m\u001b[0;34m\u001b[0m\u001b[0;34m\u001b[0m\u001b[0m\n\u001b[1;32m   2814\u001b[0m         **({\"data\": data} if data is not None else {}), **kwargs)\n",
            "\u001b[0;32m/usr/local/lib/python3.10/dist-packages/matplotlib/axes/_axes.py\u001b[0m in \u001b[0;36mplot\u001b[0;34m(self, scalex, scaley, data, *args, **kwargs)\u001b[0m\n\u001b[1;32m   1686\u001b[0m         \"\"\"\n\u001b[1;32m   1687\u001b[0m         \u001b[0mkwargs\u001b[0m \u001b[0;34m=\u001b[0m \u001b[0mcbook\u001b[0m\u001b[0;34m.\u001b[0m\u001b[0mnormalize_kwargs\u001b[0m\u001b[0;34m(\u001b[0m\u001b[0mkwargs\u001b[0m\u001b[0;34m,\u001b[0m \u001b[0mmlines\u001b[0m\u001b[0;34m.\u001b[0m\u001b[0mLine2D\u001b[0m\u001b[0;34m)\u001b[0m\u001b[0;34m\u001b[0m\u001b[0;34m\u001b[0m\u001b[0m\n\u001b[0;32m-> 1688\u001b[0;31m         \u001b[0mlines\u001b[0m \u001b[0;34m=\u001b[0m \u001b[0;34m[\u001b[0m\u001b[0;34m*\u001b[0m\u001b[0mself\u001b[0m\u001b[0;34m.\u001b[0m\u001b[0m_get_lines\u001b[0m\u001b[0;34m(\u001b[0m\u001b[0;34m*\u001b[0m\u001b[0margs\u001b[0m\u001b[0;34m,\u001b[0m \u001b[0mdata\u001b[0m\u001b[0;34m=\u001b[0m\u001b[0mdata\u001b[0m\u001b[0;34m,\u001b[0m \u001b[0;34m**\u001b[0m\u001b[0mkwargs\u001b[0m\u001b[0;34m)\u001b[0m\u001b[0;34m]\u001b[0m\u001b[0;34m\u001b[0m\u001b[0;34m\u001b[0m\u001b[0m\n\u001b[0m\u001b[1;32m   1689\u001b[0m         \u001b[0;32mfor\u001b[0m \u001b[0mline\u001b[0m \u001b[0;32min\u001b[0m \u001b[0mlines\u001b[0m\u001b[0;34m:\u001b[0m\u001b[0;34m\u001b[0m\u001b[0;34m\u001b[0m\u001b[0m\n\u001b[1;32m   1690\u001b[0m             \u001b[0mself\u001b[0m\u001b[0;34m.\u001b[0m\u001b[0madd_line\u001b[0m\u001b[0;34m(\u001b[0m\u001b[0mline\u001b[0m\u001b[0;34m)\u001b[0m\u001b[0;34m\u001b[0m\u001b[0;34m\u001b[0m\u001b[0m\n",
            "\u001b[0;32m/usr/local/lib/python3.10/dist-packages/matplotlib/axes/_base.py\u001b[0m in \u001b[0;36m__call__\u001b[0;34m(self, data, *args, **kwargs)\u001b[0m\n\u001b[1;32m    309\u001b[0m                 \u001b[0mthis\u001b[0m \u001b[0;34m+=\u001b[0m \u001b[0margs\u001b[0m\u001b[0;34m[\u001b[0m\u001b[0;36m0\u001b[0m\u001b[0;34m]\u001b[0m\u001b[0;34m,\u001b[0m\u001b[0;34m\u001b[0m\u001b[0;34m\u001b[0m\u001b[0m\n\u001b[1;32m    310\u001b[0m                 \u001b[0margs\u001b[0m \u001b[0;34m=\u001b[0m \u001b[0margs\u001b[0m\u001b[0;34m[\u001b[0m\u001b[0;36m1\u001b[0m\u001b[0;34m:\u001b[0m\u001b[0;34m]\u001b[0m\u001b[0;34m\u001b[0m\u001b[0;34m\u001b[0m\u001b[0m\n\u001b[0;32m--> 311\u001b[0;31m             yield from self._plot_args(\n\u001b[0m\u001b[1;32m    312\u001b[0m                 this, kwargs, ambiguous_fmt_datakey=ambiguous_fmt_datakey)\n\u001b[1;32m    313\u001b[0m \u001b[0;34m\u001b[0m\u001b[0m\n",
            "\u001b[0;32m/usr/local/lib/python3.10/dist-packages/matplotlib/axes/_base.py\u001b[0m in \u001b[0;36m_plot_args\u001b[0;34m(self, tup, kwargs, return_kwargs, ambiguous_fmt_datakey)\u001b[0m\n\u001b[1;32m    502\u001b[0m \u001b[0;34m\u001b[0m\u001b[0m\n\u001b[1;32m    503\u001b[0m         \u001b[0;32mif\u001b[0m \u001b[0mx\u001b[0m\u001b[0;34m.\u001b[0m\u001b[0mshape\u001b[0m\u001b[0;34m[\u001b[0m\u001b[0;36m0\u001b[0m\u001b[0;34m]\u001b[0m \u001b[0;34m!=\u001b[0m \u001b[0my\u001b[0m\u001b[0;34m.\u001b[0m\u001b[0mshape\u001b[0m\u001b[0;34m[\u001b[0m\u001b[0;36m0\u001b[0m\u001b[0;34m]\u001b[0m\u001b[0;34m:\u001b[0m\u001b[0;34m\u001b[0m\u001b[0;34m\u001b[0m\u001b[0m\n\u001b[0;32m--> 504\u001b[0;31m             raise ValueError(f\"x and y must have same first dimension, but \"\n\u001b[0m\u001b[1;32m    505\u001b[0m                              f\"have shapes {x.shape} and {y.shape}\")\n\u001b[1;32m    506\u001b[0m         \u001b[0;32mif\u001b[0m \u001b[0mx\u001b[0m\u001b[0;34m.\u001b[0m\u001b[0mndim\u001b[0m \u001b[0;34m>\u001b[0m \u001b[0;36m2\u001b[0m \u001b[0;32mor\u001b[0m \u001b[0my\u001b[0m\u001b[0;34m.\u001b[0m\u001b[0mndim\u001b[0m \u001b[0;34m>\u001b[0m \u001b[0;36m2\u001b[0m\u001b[0;34m:\u001b[0m\u001b[0;34m\u001b[0m\u001b[0;34m\u001b[0m\u001b[0m\n",
            "\u001b[0;31mValueError\u001b[0m: x and y must have same first dimension, but have shapes (1,) and (73700, 1)"
          ]
        },
        {
          "output_type": "display_data",
          "data": {
            "text/plain": [
              "<Figure size 640x480 with 2 Axes>"
            ],
            "image/png": "[encoded data removed]"
          },
          "metadata": {}
        }
      ]
    },
    {
      "cell_type": "markdown",
      "source": [
        "###Quantize\n",
        "\n",
        "Quantize the data to 64 values. Output data is labeled *x_q*."
      ],
      "metadata": {
        "id": "qwYlu3iyLlPM"
      }
    },
    {
      "cell_type": "code",
      "source": [
        "S_d = 64\n",
        "x_min = np.min(data)\n",
        "x_max = np.max(data)\n",
        "x_q = np.round((data-x_min)/(x_max-x_min)*(S_d-1))\n",
        "x_q = x_q.astype(int)"
      ],
      "metadata": {
        "id": "pMMs-0tALkjl"
      },
      "execution_count": null,
      "outputs": []
    },
    {
      "cell_type": "markdown",
      "metadata": {
        "id": "FudOKW-dd3UN"
      },
      "source": [
        "# **Part 1: Training**\n",
        "\n",
        "Train the RNN model using a sample motion artifact signal. The trained RNN model can then be saved.\n",
        "\n",
        "To ensure the model can be trained quickly, set the python notebook to run on a GPU using the setting below.\n",
        "\n",
        "Edit > Notebook Settings > GPU"
      ]
    },
    {
      "cell_type": "markdown",
      "metadata": {
        "id": "OdJHOTaHJb_K"
      },
      "source": [
        "## Build RNN Model"
      ]
    },
    {
      "cell_type": "code",
      "metadata": {
        "colab": {
          "base_uri": "https://localhost:8080/"
        },
        "id": "HEM2OSzNJgLt",
        "outputId": "2966e89b-61b4-49e4-dbd8-678ee89f7a67"
      },
      "source": [
        "# =============================================================================\n",
        "# Window size selection\n",
        "# =============================================================================\n",
        "\n",
        "win_length = 500 #window size\n",
        "win_inc = 25 # window increment\n",
        "\n",
        "examples_per_epoch = np.size(data)//win_inc\n",
        "dataset = tf.data.Dataset.from_tensor_slices(x_q)\n",
        "test = dataset.window(size=win_length, shift=win_inc,stride=1,drop_remainder=True).flat_map(lambda x: x.batch(win_length))\n",
        "dataset_targets = test.map(split_input_target)\n",
        "\n",
        "# =============================================================================\n",
        "# Create training batches\n",
        "# =============================================================================\n",
        "\n",
        "# Batch size\n",
        "BATCH_SIZE = 5\n",
        "steps_per_epoch = examples_per_epoch//BATCH_SIZE\n",
        "\n",
        "#shuffle inputs\n",
        "BUFFER_SIZE = 10000\n",
        "dataset_train = dataset_targets.shuffle(BUFFER_SIZE).batch(BATCH_SIZE, drop_remainder=True)\n",
        "\n",
        "# =============================================================================\n",
        "# Parameters for RNN Structure\n",
        "# =============================================================================\n",
        "\n",
        "# Embedding dimension\n",
        "embedding_dim = 256\n",
        "\n",
        "# Number of RNN units\n",
        "rnn_units = 256\n",
        "\n",
        "# Define size of dense layer\n",
        "numUniqueCharacters = int(max(x_q))+1\n",
        "\n",
        "# =============================================================================\n",
        "# Build model\n",
        "# =============================================================================\n",
        "model = build_model(\n",
        "  numUniqueCharacters = numUniqueCharacters,\n",
        "  embedding_dim=embedding_dim,\n",
        "  rnn_units=rnn_units,\n",
        "  batch_size=BATCH_SIZE)\n",
        "\n",
        "optimizer = keras.optimizers.legacy.Adam(learning_rate=0.0001, beta_1=0.9, beta_2=0.999, epsilon=None, decay=0.0, amsgrad=False)\n",
        "\n",
        "model.compile(\n",
        "    optimizer = optimizer,\n",
        "    loss = loss,\n",
        "    )\n",
        "\n",
        "model.summary()\n",
        "tf.keras.utils.plot_model(model, to_file='model.png', show_shapes=True, show_layer_names=True, dpi=516)\n",
        "\n",
        "# Directory where the checkpoints will be saved\n",
        "checkpoint_dir = './training_checkpoints'\n",
        "# Name of the checkpoint files\n",
        "checkpoint_prefix = os.path.join(checkpoint_dir, datetime.datetime.now().strftime(\"%Y%m%d-%H%M%S\")) #add .hdf5\n",
        "\n",
        "checkpoint_callback=tf.keras.callbacks.ModelCheckpoint(\n",
        "    filepath=checkpoint_prefix,\n",
        "    save_weights_only=True)\n"
      ],
      "execution_count": null,
      "outputs": [
        {
          "output_type": "stream",
          "name": "stdout",
          "text": [
            "Model: \"sequential\"\n",
            "_________________________________________________________________\n",
            " Layer (type)                Output Shape              Param #   \n",
            "=================================================================\n",
            " embedding (Embedding)       (5, None, 256)            16384     \n",
            "                                                                 \n",
            " gru (GRU)                   (5, None, 256)            394752    \n",
            "                                                                 \n",
            " gru_1 (GRU)                 (5, None, 256)            394752    \n",
            "                                                                 \n",
            " gru_2 (GRU)                 (5, None, 256)            394752    \n",
            "                                                                 \n",
            " dense (Dense)               (5, None, 64)             16448     \n",
            "                                                                 \n",
            "=================================================================\n",
            "Total params: 1,217,088\n",
            "Trainable params: 1,217,088\n",
            "Non-trainable params: 0\n",
            "_________________________________________________________________\n"
          ]
        }
      ]
    },
    {
      "cell_type": "markdown",
      "metadata": {
        "id": "caE8E_ILQIKA"
      },
      "source": [
        "## Train RNN Model\n",
        "\n",
        "Training the classifier will take some time. It may take anywhere from 25 minutes to over 2 hours."
      ]
    },
    {
      "cell_type": "code",
      "metadata": {
        "colab": {
          "base_uri": "https://localhost:8080/"
        },
        "id": "bh7Z4GqHQPBc",
        "outputId": "257f81b0-7820-4ced-bf50-58b537808c5a"
      },
      "source": [
        "EPOCHS= 80\n",
        "history = model.fit(dataset_train.repeat(), epochs=EPOCHS, steps_per_epoch=steps_per_epoch, callbacks=[checkpoint_callback])"
      ],
      "execution_count": null,
      "outputs": [
        {
          "output_type": "stream",
          "name": "stdout",
          "text": [
            "Epoch 1/80\n",
            "493/493 [==============================] - 36s 53ms/step - loss: 1.9992\n",
            "Epoch 2/80\n",
            "493/493 [==============================] - 34s 68ms/step - loss: 1.3070\n",
            "Epoch 3/80\n",
            "493/493 [==============================] - 24s 50ms/step - loss: 1.2480\n",
            "Epoch 4/80\n",
            "493/493 [==============================] - 25s 50ms/step - loss: 1.2187\n",
            "Epoch 5/80\n",
            "493/493 [==============================] - 27s 54ms/step - loss: 1.1932\n",
            "Epoch 6/80\n",
            "493/493 [==============================] - 24s 49ms/step - loss: 1.1683\n",
            "Epoch 7/80\n",
            "493/493 [==============================] - 23s 47ms/step - loss: 1.1484\n",
            "Epoch 8/80\n",
            "493/493 [==============================] - 23s 47ms/step - loss: 1.1296\n",
            "Epoch 9/80\n",
            "493/493 [==============================] - 23s 47ms/step - loss: 1.1114\n",
            "Epoch 10/80\n",
            "493/493 [==============================] - 24s 48ms/step - loss: 1.0936\n",
            "Epoch 11/80\n",
            "493/493 [==============================] - 24s 48ms/step - loss: 1.0764\n",
            "Epoch 12/80\n",
            "493/493 [==============================] - 24s 49ms/step - loss: 1.0586\n",
            "Epoch 13/80\n",
            "493/493 [==============================] - 24s 49ms/step - loss: 1.0384\n",
            "Epoch 14/80\n",
            "493/493 [==============================] - 23s 47ms/step - loss: 1.0189\n",
            "Epoch 15/80\n",
            "493/493 [==============================] - 23s 47ms/step - loss: 0.9963\n",
            "Epoch 16/80\n",
            "493/493 [==============================] - 23s 47ms/step - loss: 0.9721\n",
            "Epoch 17/80\n",
            "493/493 [==============================] - 23s 48ms/step - loss: 0.9477\n",
            "Epoch 18/80\n",
            "493/493 [==============================] - 23s 48ms/step - loss: 0.9197\n",
            "Epoch 19/80\n",
            "493/493 [==============================] - 24s 49ms/step - loss: 0.8917\n",
            "Epoch 20/80\n",
            "493/493 [==============================] - 24s 49ms/step - loss: 0.8599\n",
            "Epoch 21/80\n",
            "493/493 [==============================] - 24s 48ms/step - loss: 0.8260\n",
            "Epoch 22/80\n",
            "493/493 [==============================] - 23s 48ms/step - loss: 0.7897\n",
            "Epoch 23/80\n",
            "493/493 [==============================] - 23s 47ms/step - loss: 0.7554\n",
            "Epoch 24/80\n",
            "493/493 [==============================] - 23s 47ms/step - loss: 0.7155\n",
            "Epoch 25/80\n",
            "493/493 [==============================] - 23s 48ms/step - loss: 0.6773\n",
            "Epoch 26/80\n",
            "493/493 [==============================] - 24s 49ms/step - loss: 0.6377\n",
            "Epoch 27/80\n",
            "493/493 [==============================] - 24s 49ms/step - loss: 0.6009\n",
            "Epoch 28/80\n",
            "493/493 [==============================] - 24s 48ms/step - loss: 0.5617\n",
            "Epoch 29/80\n",
            "493/493 [==============================] - 23s 48ms/step - loss: 0.5263\n",
            "Epoch 30/80\n",
            "493/493 [==============================] - 23s 48ms/step - loss: 0.4910\n",
            "Epoch 31/80\n",
            "493/493 [==============================] - 23s 47ms/step - loss: 0.4605\n",
            "Epoch 32/80\n",
            "493/493 [==============================] - 23s 46ms/step - loss: 0.4291\n",
            "Epoch 33/80\n",
            "493/493 [==============================] - 24s 48ms/step - loss: 0.4014\n",
            "Epoch 34/80\n",
            "493/493 [==============================] - 24s 49ms/step - loss: 0.3762\n",
            "Epoch 35/80\n",
            "493/493 [==============================] - 24s 48ms/step - loss: 0.3529\n",
            "Epoch 36/80\n",
            "493/493 [==============================] - 24s 48ms/step - loss: 0.3305\n",
            "Epoch 37/80\n",
            "493/493 [==============================] - 23s 48ms/step - loss: 0.3126\n",
            "Epoch 38/80\n",
            "493/493 [==============================] - 24s 48ms/step - loss: 0.2973\n",
            "Epoch 39/80\n",
            "493/493 [==============================] - 23s 48ms/step - loss: 0.2800\n",
            "Epoch 40/80\n",
            "493/493 [==============================] - 23s 47ms/step - loss: 0.2650\n",
            "Epoch 41/80\n",
            "493/493 [==============================] - 24s 48ms/step - loss: 0.2532\n",
            "Epoch 42/80\n",
            "493/493 [==============================] - 24s 49ms/step - loss: 0.2445\n",
            "Epoch 43/80\n",
            "493/493 [==============================] - 24s 48ms/step - loss: 0.2344\n",
            "Epoch 44/80\n",
            "493/493 [==============================] - 24s 48ms/step - loss: 0.2247\n",
            "Epoch 45/80\n",
            "493/493 [==============================] - 23s 48ms/step - loss: 0.2176\n",
            "Epoch 46/80\n",
            "493/493 [==============================] - 24s 48ms/step - loss: 0.2079\n",
            "Epoch 47/80\n",
            "493/493 [==============================] - 24s 48ms/step - loss: 0.2039\n",
            "Epoch 48/80\n",
            "493/493 [==============================] - 23s 48ms/step - loss: 0.1986\n",
            "Epoch 49/80\n",
            "493/493 [==============================] - 24s 48ms/step - loss: 0.1927\n",
            "Epoch 50/80\n",
            "493/493 [==============================] - 24s 48ms/step - loss: 0.1869\n",
            "Epoch 51/80\n",
            "493/493 [==============================] - 24s 48ms/step - loss: 0.1836\n",
            "Epoch 52/80\n",
            "493/493 [==============================] - 24s 48ms/step - loss: 0.1802\n",
            "Epoch 53/80\n",
            "493/493 [==============================] - 23s 47ms/step - loss: 0.1748\n",
            "Epoch 54/80\n",
            "493/493 [==============================] - 23s 47ms/step - loss: 0.1727\n",
            "Epoch 55/80\n",
            "493/493 [==============================] - 23s 48ms/step - loss: 0.1683\n",
            "Epoch 56/80\n",
            "493/493 [==============================] - 24s 48ms/step - loss: 0.1650\n",
            "Epoch 57/80\n",
            "493/493 [==============================] - 23s 47ms/step - loss: 0.1644\n",
            "Epoch 58/80\n",
            "493/493 [==============================] - 23s 48ms/step - loss: 0.1614\n",
            "Epoch 59/80\n",
            "493/493 [==============================] - 24s 48ms/step - loss: 0.1578\n",
            "Epoch 60/80\n",
            "493/493 [==============================] - 23s 47ms/step - loss: 0.1570\n",
            "Epoch 61/80\n",
            "493/493 [==============================] - 23s 47ms/step - loss: 0.1543\n",
            "Epoch 62/80\n",
            "493/493 [==============================] - 24s 48ms/step - loss: 0.1514\n",
            "Epoch 63/80\n",
            "493/493 [==============================] - 24s 49ms/step - loss: 0.1497\n",
            "Epoch 64/80\n",
            "493/493 [==============================] - 24s 48ms/step - loss: 0.1480\n",
            "Epoch 65/80\n",
            "493/493 [==============================] - 23s 47ms/step - loss: 0.1465\n",
            "Epoch 66/80\n",
            "493/493 [==============================] - 23s 47ms/step - loss: 0.1449\n",
            "Epoch 67/80\n",
            "493/493 [==============================] - 23s 47ms/step - loss: 0.1440\n",
            "Epoch 68/80\n",
            "493/493 [==============================] - 23s 47ms/step - loss: 0.1423\n",
            "Epoch 69/80\n",
            "493/493 [==============================] - 24s 48ms/step - loss: 0.1396\n",
            "Epoch 70/80\n",
            "493/493 [==============================] - 24s 49ms/step - loss: 0.1374\n",
            "Epoch 71/80\n",
            "493/493 [==============================] - 24s 48ms/step - loss: 0.1388\n",
            "Epoch 72/80\n",
            "493/493 [==============================] - 23s 47ms/step - loss: 0.1344\n",
            "Epoch 73/80\n",
            "493/493 [==============================] - 23s 47ms/step - loss: 0.1348\n",
            "Epoch 74/80\n",
            "493/493 [==============================] - 23s 47ms/step - loss: 0.1335\n",
            "Epoch 75/80\n",
            "493/493 [==============================] - 23s 48ms/step - loss: 0.1314\n",
            "Epoch 76/80\n",
            "493/493 [==============================] - 24s 48ms/step - loss: 0.1306\n",
            "Epoch 77/80\n",
            "493/493 [==============================] - 24s 49ms/step - loss: 0.1290\n",
            "Epoch 78/80\n",
            "493/493 [==============================] - 24s 48ms/step - loss: 0.1293\n",
            "Epoch 79/80\n",
            "493/493 [==============================] - 23s 47ms/step - loss: 0.1275\n",
            "Epoch 80/80\n",
            "493/493 [==============================] - 23s 47ms/step - loss: 0.1265\n"
          ]
        }
      ]
    },
    {
      "cell_type": "markdown",
      "metadata": {
        "id": "EMv2bX_lfahO"
      },
      "source": [
        "## Save the Model\n",
        "\n",
        "The two required files to load a model are \"saved_model.h5\" and the \"training_checkpoints\" folder containing three files. These files can be saved by running the two code cells below.\n",
        "\n",
        "Change \"***saved_model***\" in the code cell below to what you would like the saved model filename to be."
      ]
    },
    {
      "cell_type": "code",
      "metadata": {
        "colab": {
          "base_uri": "https://localhost:8080/"
        },
        "id": "5NvHUqeXfV-w",
        "outputId": "2b2f924c-c74c-4d24-8c36-46e408e6f8d5"
      },
      "source": [
        "tf.train.latest_checkpoint(checkpoint_dir)\n",
        "model = build_model(numUniqueCharacters, embedding_dim, rnn_units, batch_size=1)\n",
        "model.load_weights(tf.train.latest_checkpoint(checkpoint_dir))\n",
        "model.build(tf.TensorShape([1, None]))\n",
        "model.summary()\n",
        "tf.keras.utils.plot_model(model, to_file='model.png', show_shapes=True, show_layer_names=True)\n",
        "\n",
        "model.save('saved_model.h5')"
      ],
      "execution_count": null,
      "outputs": [
        {
          "output_type": "stream",
          "name": "stdout",
          "text": [
            "Model: \"sequential_1\"\n",
            "_________________________________________________________________\n",
            " Layer (type)                Output Shape              Param #   \n",
            "=================================================================\n",
            " embedding_1 (Embedding)     (1, None, 256)            16384     \n",
            "                                                                 \n",
            " gru_3 (GRU)                 (1, None, 256)            394752    \n",
            "                                                                 \n",
            " gru_4 (GRU)                 (1, None, 256)            394752    \n",
            "                                                                 \n",
            " gru_5 (GRU)                 (1, None, 256)            394752    \n",
            "                                                                 \n",
            " dense_1 (Dense)             (1, None, 64)             16448     \n",
            "                                                                 \n",
            "=================================================================\n",
            "Total params: 1,217,088\n",
            "Trainable params: 1,217,088\n",
            "Non-trainable params: 0\n",
            "_________________________________________________________________\n"
          ]
        },
        {
          "output_type": "stream",
          "name": "stderr",
          "text": [
            "WARNING:tensorflow:Compiled the loaded model, but the compiled metrics have yet to be built. `model.compile_metrics` will be empty until you train or evaluate the model.\n"
          ]
        }
      ]
    },
    {
      "cell_type": "code",
      "source": [
        "with ZipFile('training_checkpoints.zip', 'w') as zipObj:\n",
        "   for folderName, subfolders, filenames in os.walk('training_checkpoints'):\n",
        "       for filename in filenames:\n",
        "           filePath = os.path.join(folderName, filename)\n",
        "           zipObj.write(filePath, basename(filePath))"
      ],
      "metadata": {
        "id": "j1Orp8QzYmCq"
      },
      "execution_count": null,
      "outputs": []
    },
    {
      "cell_type": "code",
      "source": [
        "dfinput = pd.DataFrame(x_q)\n",
        "dfinput.to_csv(\"start_seq.csv\")"
      ],
      "metadata": {
        "id": "4DpZdeZEH000"
      },
      "execution_count": null,
      "outputs": []
    },
    {
      "cell_type": "markdown",
      "source": [
        "In the cell below, change \"***saved_model***\" to match the name of the file in the cell above."
      ],
      "metadata": {
        "id": "_NYQPWa4EXV5"
      }
    },
    {
      "cell_type": "code",
      "source": [
        "#Download the model files to local machine\n",
        "files.download('saved_model.h5')\n",
        "files.download('training_checkpoints.zip')\n",
        "files.download('start_seq.csv')"
      ],
      "metadata": {
        "id": "Q78UPKebEWhv",
        "colab": {
          "base_uri": "https://localhost:8080/",
          "height": 17
        },
        "outputId": "34217e79-e108-4bb6-bb85-31d72b15c861"
      },
      "execution_count": null,
      "outputs": [
        {
          "output_type": "display_data",
          "data": {
            "text/plain": [
              "<IPython.core.display.Javascript object>"
            ],
            "application/javascript": [
              "\n",
              "    async function download(id, filename, size) {\n",
              "      if (!google.colab.kernel.accessAllowed) {\n",
              "        return;\n",
              "      }\n",
              "      const div = document.createElement('div');\n",
              "      const label = document.createElement('label');\n",
              "      label.textContent = `Downloading \"${filename}\": `;\n",
              "      div.appendChild(label);\n",
              "      const progress = document.createElement('progress');\n",
              "      progress.max = size;\n",
              "      div.appendChild(progress);\n",
              "      document.body.appendChild(div);\n",
              "\n",
              "      const buffers = [];\n",
              "      let downloaded = 0;\n",
              "\n",
              "      const channel = await google.colab.kernel.comms.open(id);\n",
              "      // Send a message to notify the kernel that we're ready.\n",
              "      channel.send({})\n",
              "\n",
              "      for await (const message of channel.messages) {\n",
              "        // Send a message to notify the kernel that we're ready.\n",
              "        channel.send({})\n",
              "        if (message.buffers) {\n",
              "          for (const buffer of message.buffers) {\n",
              "            buffers.push(buffer);\n",
              "            downloaded += buffer.byteLength;\n",
              "            progress.value = downloaded;\n",
              "          }\n",
              "        }\n",
              "      }\n",
              "      const blob = new Blob(buffers, {type: 'application/binary'});\n",
              "      const a = document.createElement('a');\n",
              "      a.href = window.URL.createObjectURL(blob);\n",
              "      a.download = filename;\n",
              "      div.appendChild(a);\n",
              "      a.click();\n",
              "      div.remove();\n",
              "    }\n",
              "  "
            ]
          },
          "metadata": {}
        },
        {
          "output_type": "display_data",
          "data": {
            "text/plain": [
              "<IPython.core.display.Javascript object>"
            ],
            "application/javascript": [
              "download(\"download_704c1c1a-9aba-4fa9-b7a8-81c68b3bdf67\", \"saved_model.h5\", 4900296)"
            ]
          },
          "metadata": {}
        },
        {
          "output_type": "display_data",
          "data": {
            "text/plain": [
              "<IPython.core.display.Javascript object>"
            ],
            "application/javascript": [
              "\n",
              "    async function download(id, filename, size) {\n",
              "      if (!google.colab.kernel.accessAllowed) {\n",
              "        return;\n",
              "      }\n",
              "      const div = document.createElement('div');\n",
              "      const label = document.createElement('label');\n",
              "      label.textContent = `Downloading \"${filename}\": `;\n",
              "      div.appendChild(label);\n",
              "      const progress = document.createElement('progress');\n",
              "      progress.max = size;\n",
              "      div.appendChild(progress);\n",
              "      document.body.appendChild(div);\n",
              "\n",
              "      const buffers = [];\n",
              "      let downloaded = 0;\n",
              "\n",
              "      const channel = await google.colab.kernel.comms.open(id);\n",
              "      // Send a message to notify the kernel that we're ready.\n",
              "      channel.send({})\n",
              "\n",
              "      for await (const message of channel.messages) {\n",
              "        // Send a message to notify the kernel that we're ready.\n",
              "        channel.send({})\n",
              "        if (message.buffers) {\n",
              "          for (const buffer of message.buffers) {\n",
              "            buffers.push(buffer);\n",
              "            downloaded += buffer.byteLength;\n",
              "            progress.value = downloaded;\n",
              "          }\n",
              "        }\n",
              "      }\n",
              "      const blob = new Blob(buffers, {type: 'application/binary'});\n",
              "      const a = document.createElement('a');\n",
              "      a.href = window.URL.createObjectURL(blob);\n",
              "      a.download = filename;\n",
              "      div.appendChild(a);\n",
              "      a.click();\n",
              "      div.remove();\n",
              "    }\n",
              "  "
            ]
          },
          "metadata": {}
        },
        {
          "output_type": "display_data",
          "data": {
            "text/plain": [
              "<IPython.core.display.Javascript object>"
            ],
            "application/javascript": [
              "download(\"download_ff3eb6c2-aa54-43bb-9e36-da9dea3a5361\", \"training_checkpoints.zip\", 14614667)"
            ]
          },
          "metadata": {}
        },
        {
          "output_type": "display_data",
          "data": {
            "text/plain": [
              "<IPython.core.display.Javascript object>"
            ],
            "application/javascript": [
              "\n",
              "    async function download(id, filename, size) {\n",
              "      if (!google.colab.kernel.accessAllowed) {\n",
              "        return;\n",
              "      }\n",
              "      const div = document.createElement('div');\n",
              "      const label = document.createElement('label');\n",
              "      label.textContent = `Downloading \"${filename}\": `;\n",
              "      div.appendChild(label);\n",
              "      const progress = document.createElement('progress');\n",
              "      progress.max = size;\n",
              "      div.appendChild(progress);\n",
              "      document.body.appendChild(div);\n",
              "\n",
              "      const buffers = [];\n",
              "      let downloaded = 0;\n",
              "\n",
              "      const channel = await google.colab.kernel.comms.open(id);\n",
              "      // Send a message to notify the kernel that we're ready.\n",
              "      channel.send({})\n",
              "\n",
              "      for await (const message of channel.messages) {\n",
              "        // Send a message to notify the kernel that we're ready.\n",
              "        channel.send({})\n",
              "        if (message.buffers) {\n",
              "          for (const buffer of message.buffers) {\n",
              "            buffers.push(buffer);\n",
              "            downloaded += buffer.byteLength;\n",
              "            progress.value = downloaded;\n",
              "          }\n",
              "        }\n",
              "      }\n",
              "      const blob = new Blob(buffers, {type: 'application/binary'});\n",
              "      const a = document.createElement('a');\n",
              "      a.href = window.URL.createObjectURL(blob);\n",
              "      a.download = filename;\n",
              "      div.appendChild(a);\n",
              "      a.click();\n",
              "      div.remove();\n",
              "    }\n",
              "  "
            ]
          },
          "metadata": {}
        },
        {
          "output_type": "display_data",
          "data": {
            "text/plain": [
              "<IPython.core.display.Javascript object>"
            ],
            "application/javascript": [
              "download(\"download_90f1da67-a95f-4b9c-b4e3-2219d14447f5\", \"start_seq.csv\", 543624)"
            ]
          },
          "metadata": {}
        }
      ]
    },
    {
      "cell_type": "markdown",
      "metadata": {
        "id": "WdUwTtBaeMMQ"
      },
      "source": [
        "# **Part 2: Simulation**\n",
        "\n",
        "Simulate a motion artifact signal using the RNN model."
      ]
    },
    {
      "cell_type": "markdown",
      "metadata": {
        "id": "uHD6y6z4fvrp"
      },
      "source": [
        "## Load the Model\n",
        "\n",
        "If you are loading a model that has been trained in a previous session, you will need to upload the ***saved_model.h5*** file and the ***training_checkpoints.zip*** file to Google Colab. This is done by running the code cell below.\n",
        "\n",
        "Change ***saved_model.h5*** in the code cell below so that it matches the name of the saved model that you would like to upload.  \n",
        "\n",
        "When prompted, click on 'Choose Files', select the saved_model.h5 file. When the prompt appears again, select the training_checkpoints.zip file.\n",
        "\n",
        "**This step can be skipped if you have just trained a model in Part 1.**"
      ]
    },
    {
      "cell_type": "code",
      "source": [
        "#Upload saved model file\n",
        "uploaded  = files.upload()\n",
        "\n",
        "#Upload zipped training checkpoints\n",
        "uploaded  = files.upload()\n",
        "\n",
        "!unzip training_checkpoints.zip -d training_checkpoints"
      ],
      "metadata": {
        "id": "Z71KWyVV20bZ",
        "colab": {
          "base_uri": "https://localhost:8080/",
          "height": 198
        },
        "outputId": "f0ee7f4b-47ad-49b3-f1f0-3a10ade51390"
      },
      "execution_count": null,
      "outputs": [
        {
          "output_type": "display_data",
          "data": {
            "text/plain": [
              "<IPython.core.display.HTML object>"
            ],
            "text/html": [
              "\n",
              "     <input type=\"file\" id=\"files-7454d98f-03fa-4f77-a1ed-d81e76cd36e5\" name=\"files[]\" multiple disabled\n",
              "        style=\"border:none\" />\n",
              "     <output id=\"result-7454d98f-03fa-4f77-a1ed-d81e76cd36e5\">\n",
              "      Upload widget is only available when the cell has been executed in the\n",
              "      current browser session. Please rerun this cell to enable.\n",
              "      </output>\n",
              "      <script>// Copyright 2017 Google LLC\n",
              "//\n",
              "// Licensed under the Apache License, Version 2.0 (the \"License\");\n",
              "// you may not use this file except in compliance with the License.\n",
              "// You may obtain a copy of the License at\n",
              "//\n",
              "//      http://www.apache.org/licenses/LICENSE-2.0\n",
              "//\n",
              "// Unless required by applicable law or agreed to in writing, software\n",
              "// distributed under the License is distributed on an \"AS IS\" BASIS,\n",
              "// WITHOUT WARRANTIES OR CONDITIONS OF ANY KIND, either express or implied.\n",
              "// See the License for the specific language governing permissions and\n",
              "// limitations under the License.\n",
              "\n",
              "/**\n",
              " * @fileoverview Helpers for google.colab Python module.\n",
              " */\n",
              "(function(scope) {\n",
              "function span(text, styleAttributes = {}) {\n",
              "  const element = document.createElement('span');\n",
              "  element.textContent = text;\n",
              "  for (const key of Object.keys(styleAttributes)) {\n",
              "    element.style[key] = styleAttributes[key];\n",
              "  }\n",
              "  return element;\n",
              "}\n",
              "\n",
              "// Max number of bytes which will be uploaded at a time.\n",
              "const MAX_PAYLOAD_SIZE = 100 * 1024;\n",
              "\n",
              "function _uploadFiles(inputId, outputId) {\n",
              "  const steps = uploadFilesStep(inputId, outputId);\n",
              "  const outputElement = document.getElementById(outputId);\n",
              "  // Cache steps on the outputElement to make it available for the next call\n",
              "  // to uploadFilesContinue from Python.\n",
              "  outputElement.steps = steps;\n",
              "\n",
              "  return _uploadFilesContinue(outputId);\n",
              "}\n",
              "\n",
              "// This is roughly an async generator (not supported in the browser yet),\n",
              "// where there are multiple asynchronous steps and the Python side is going\n",
              "// to poll for completion of each step.\n",
              "// This uses a Promise to block the python side on completion of each step,\n",
              "// then passes the result of the previous step as the input to the next step.\n",
              "function _uploadFilesContinue(outputId) {\n",
              "  const outputElement = document.getElementById(outputId);\n",
              "  const steps = outputElement.steps;\n",
              "\n",
              "  const next = steps.next(outputElement.lastPromiseValue);\n",
              "  return Promise.resolve(next.value.promise).then((value) => {\n",
              "    // Cache the last promise value to make it available to the next\n",
              "    // step of the generator.\n",
              "    outputElement.lastPromiseValue = value;\n",
              "    return next.value.response;\n",
              "  });\n",
              "}\n",
              "\n",
              "/**\n",
              " * Generator function which is called between each async step of the upload\n",
              " * process.\n",
              " * @param {string} inputId Element ID of the input file picker element.\n",
              " * @param {string} outputId Element ID of the output display.\n",
              " * @return {!Iterable<!Object>} Iterable of next steps.\n",
              " */\n",
              "function* uploadFilesStep(inputId, outputId) {\n",
              "  const inputElement = document.getElementById(inputId);\n",
              "  inputElement.disabled = false;\n",
              "\n",
              "  const outputElement = document.getElementById(outputId);\n",
              "  outputElement.innerHTML = '';\n",
              "\n",
              "  const pickedPromise = new Promise((resolve) => {\n",
              "    inputElement.addEventListener('change', (e) => {\n",
              "      resolve(e.target.files);\n",
              "    });\n",
              "  });\n",
              "\n",
              "  const cancel = document.createElement('button');\n",
              "  inputElement.parentElement.appendChild(cancel);\n",
              "  cancel.textContent = 'Cancel upload';\n",
              "  const cancelPromise = new Promise((resolve) => {\n",
              "    cancel.onclick = () => {\n",
              "      resolve(null);\n",
              "    };\n",
              "  });\n",
              "\n",
              "  // Wait for the user to pick the files.\n",
              "  const files = yield {\n",
              "    promise: Promise.race([pickedPromise, cancelPromise]),\n",
              "    response: {\n",
              "      action: 'starting',\n",
              "    }\n",
              "  };\n",
              "\n",
              "  cancel.remove();\n",
              "\n",
              "  // Disable the input element since further picks are not allowed.\n",
              "  inputElement.disabled = true;\n",
              "\n",
              "  if (!files) {\n",
              "    return {\n",
              "      response: {\n",
              "        action: 'complete',\n",
              "      }\n",
              "    };\n",
              "  }\n",
              "\n",
              "  for (const file of files) {\n",
              "    const li = document.createElement('li');\n",
              "    li.append(span(file.name, {fontWeight: 'bold'}));\n",
              "    li.append(span(\n",
              "        `(${file.type || 'n/a'}) - ${file.size} bytes, ` +\n",
              "        `last modified: ${\n",
              "            file.lastModifiedDate ? file.lastModifiedDate.toLocaleDateString() :\n",
              "                                    'n/a'} - `));\n",
              "    const percent = span('0% done');\n",
              "    li.appendChild(percent);\n",
              "\n",
              "    outputElement.appendChild(li);\n",
              "\n",
              "    const fileDataPromise = new Promise((resolve) => {\n",
              "      const reader = new FileReader();\n",
              "      reader.onload = (e) => {\n",
              "        resolve(e.target.result);\n",
              "      };\n",
              "      reader.readAsArrayBuffer(file);\n",
              "    });\n",
              "    // Wait for the data to be ready.\n",
              "    let fileData = yield {\n",
              "      promise: fileDataPromise,\n",
              "      response: {\n",
              "        action: 'continue',\n",
              "      }\n",
              "    };\n",
              "\n",
              "    // Use a chunked sending to avoid message size limits. See b/62115660.\n",
              "    let position = 0;\n",
              "    do {\n",
              "      const length = Math.min(fileData.byteLength - position, MAX_PAYLOAD_SIZE);\n",
              "      const chunk = new Uint8Array(fileData, position, length);\n",
              "      position += length;\n",
              "\n",
              "      const base64 = btoa(String.fromCharCode.apply(null, chunk));\n",
              "      yield {\n",
              "        response: {\n",
              "          action: 'append',\n",
              "          file: file.name,\n",
              "          data: base64,\n",
              "        },\n",
              "      };\n",
              "\n",
              "      let percentDone = fileData.byteLength === 0 ?\n",
              "          100 :\n",
              "          Math.round((position / fileData.byteLength) * 100);\n",
              "      percent.textContent = `${percentDone}% done`;\n",
              "\n",
              "    } while (position < fileData.byteLength);\n",
              "  }\n",
              "\n",
              "  // All done.\n",
              "  yield {\n",
              "    response: {\n",
              "      action: 'complete',\n",
              "    }\n",
              "  };\n",
              "}\n",
              "\n",
              "scope.google = scope.google || {};\n",
              "scope.google.colab = scope.google.colab || {};\n",
              "scope.google.colab._files = {\n",
              "  _uploadFiles,\n",
              "  _uploadFilesContinue,\n",
              "};\n",
              "})(self);\n",
              "</script> "
            ]
          },
          "metadata": {}
        },
        {
          "output_type": "stream",
          "name": "stdout",
          "text": [
            "Saving saved_model.h5 to saved_model.h5\n"
          ]
        },
        {
          "output_type": "display_data",
          "data": {
            "text/plain": [
              "<IPython.core.display.HTML object>"
            ],
            "text/html": [
              "\n",
              "     <input type=\"file\" id=\"files-0ec47d24-b5d9-4097-b79b-afce72a30fde\" name=\"files[]\" multiple disabled\n",
              "        style=\"border:none\" />\n",
              "     <output id=\"result-0ec47d24-b5d9-4097-b79b-afce72a30fde\">\n",
              "      Upload widget is only available when the cell has been executed in the\n",
              "      current browser session. Please rerun this cell to enable.\n",
              "      </output>\n",
              "      <script>// Copyright 2017 Google LLC\n",
              "//\n",
              "// Licensed under the Apache License, Version 2.0 (the \"License\");\n",
              "// you may not use this file except in compliance with the License.\n",
              "// You may obtain a copy of the License at\n",
              "//\n",
              "//      http://www.apache.org/licenses/LICENSE-2.0\n",
              "//\n",
              "// Unless required by applicable law or agreed to in writing, software\n",
              "// distributed under the License is distributed on an \"AS IS\" BASIS,\n",
              "// WITHOUT WARRANTIES OR CONDITIONS OF ANY KIND, either express or implied.\n",
              "// See the License for the specific language governing permissions and\n",
              "// limitations under the License.\n",
              "\n",
              "/**\n",
              " * @fileoverview Helpers for google.colab Python module.\n",
              " */\n",
              "(function(scope) {\n",
              "function span(text, styleAttributes = {}) {\n",
              "  const element = document.createElement('span');\n",
              "  element.textContent = text;\n",
              "  for (const key of Object.keys(styleAttributes)) {\n",
              "    element.style[key] = styleAttributes[key];\n",
              "  }\n",
              "  return element;\n",
              "}\n",
              "\n",
              "// Max number of bytes which will be uploaded at a time.\n",
              "const MAX_PAYLOAD_SIZE = 100 * 1024;\n",
              "\n",
              "function _uploadFiles(inputId, outputId) {\n",
              "  const steps = uploadFilesStep(inputId, outputId);\n",
              "  const outputElement = document.getElementById(outputId);\n",
              "  // Cache steps on the outputElement to make it available for the next call\n",
              "  // to uploadFilesContinue from Python.\n",
              "  outputElement.steps = steps;\n",
              "\n",
              "  return _uploadFilesContinue(outputId);\n",
              "}\n",
              "\n",
              "// This is roughly an async generator (not supported in the browser yet),\n",
              "// where there are multiple asynchronous steps and the Python side is going\n",
              "// to poll for completion of each step.\n",
              "// This uses a Promise to block the python side on completion of each step,\n",
              "// then passes the result of the previous step as the input to the next step.\n",
              "function _uploadFilesContinue(outputId) {\n",
              "  const outputElement = document.getElementById(outputId);\n",
              "  const steps = outputElement.steps;\n",
              "\n",
              "  const next = steps.next(outputElement.lastPromiseValue);\n",
              "  return Promise.resolve(next.value.promise).then((value) => {\n",
              "    // Cache the last promise value to make it available to the next\n",
              "    // step of the generator.\n",
              "    outputElement.lastPromiseValue = value;\n",
              "    return next.value.response;\n",
              "  });\n",
              "}\n",
              "\n",
              "/**\n",
              " * Generator function which is called between each async step of the upload\n",
              " * process.\n",
              " * @param {string} inputId Element ID of the input file picker element.\n",
              " * @param {string} outputId Element ID of the output display.\n",
              " * @return {!Iterable<!Object>} Iterable of next steps.\n",
              " */\n",
              "function* uploadFilesStep(inputId, outputId) {\n",
              "  const inputElement = document.getElementById(inputId);\n",
              "  inputElement.disabled = false;\n",
              "\n",
              "  const outputElement = document.getElementById(outputId);\n",
              "  outputElement.innerHTML = '';\n",
              "\n",
              "  const pickedPromise = new Promise((resolve) => {\n",
              "    inputElement.addEventListener('change', (e) => {\n",
              "      resolve(e.target.files);\n",
              "    });\n",
              "  });\n",
              "\n",
              "  const cancel = document.createElement('button');\n",
              "  inputElement.parentElement.appendChild(cancel);\n",
              "  cancel.textContent = 'Cancel upload';\n",
              "  const cancelPromise = new Promise((resolve) => {\n",
              "    cancel.onclick = () => {\n",
              "      resolve(null);\n",
              "    };\n",
              "  });\n",
              "\n",
              "  // Wait for the user to pick the files.\n",
              "  const files = yield {\n",
              "    promise: Promise.race([pickedPromise, cancelPromise]),\n",
              "    response: {\n",
              "      action: 'starting',\n",
              "    }\n",
              "  };\n",
              "\n",
              "  cancel.remove();\n",
              "\n",
              "  // Disable the input element since further picks are not allowed.\n",
              "  inputElement.disabled = true;\n",
              "\n",
              "  if (!files) {\n",
              "    return {\n",
              "      response: {\n",
              "        action: 'complete',\n",
              "      }\n",
              "    };\n",
              "  }\n",
              "\n",
              "  for (const file of files) {\n",
              "    const li = document.createElement('li');\n",
              "    li.append(span(file.name, {fontWeight: 'bold'}));\n",
              "    li.append(span(\n",
              "        `(${file.type || 'n/a'}) - ${file.size} bytes, ` +\n",
              "        `last modified: ${\n",
              "            file.lastModifiedDate ? file.lastModifiedDate.toLocaleDateString() :\n",
              "                                    'n/a'} - `));\n",
              "    const percent = span('0% done');\n",
              "    li.appendChild(percent);\n",
              "\n",
              "    outputElement.appendChild(li);\n",
              "\n",
              "    const fileDataPromise = new Promise((resolve) => {\n",
              "      const reader = new FileReader();\n",
              "      reader.onload = (e) => {\n",
              "        resolve(e.target.result);\n",
              "      };\n",
              "      reader.readAsArrayBuffer(file);\n",
              "    });\n",
              "    // Wait for the data to be ready.\n",
              "    let fileData = yield {\n",
              "      promise: fileDataPromise,\n",
              "      response: {\n",
              "        action: 'continue',\n",
              "      }\n",
              "    };\n",
              "\n",
              "    // Use a chunked sending to avoid message size limits. See b/62115660.\n",
              "    let position = 0;\n",
              "    do {\n",
              "      const length = Math.min(fileData.byteLength - position, MAX_PAYLOAD_SIZE);\n",
              "      const chunk = new Uint8Array(fileData, position, length);\n",
              "      position += length;\n",
              "\n",
              "      const base64 = btoa(String.fromCharCode.apply(null, chunk));\n",
              "      yield {\n",
              "        response: {\n",
              "          action: 'append',\n",
              "          file: file.name,\n",
              "          data: base64,\n",
              "        },\n",
              "      };\n",
              "\n",
              "      let percentDone = fileData.byteLength === 0 ?\n",
              "          100 :\n",
              "          Math.round((position / fileData.byteLength) * 100);\n",
              "      percent.textContent = `${percentDone}% done`;\n",
              "\n",
              "    } while (position < fileData.byteLength);\n",
              "  }\n",
              "\n",
              "  // All done.\n",
              "  yield {\n",
              "    response: {\n",
              "      action: 'complete',\n",
              "    }\n",
              "  };\n",
              "}\n",
              "\n",
              "scope.google = scope.google || {};\n",
              "scope.google.colab = scope.google.colab || {};\n",
              "scope.google.colab._files = {\n",
              "  _uploadFiles,\n",
              "  _uploadFilesContinue,\n",
              "};\n",
              "})(self);\n",
              "</script> "
            ]
          },
          "metadata": {}
        },
        {
          "output_type": "stream",
          "name": "stdout",
          "text": [
            "Saving training_checkpoints.zip to training_checkpoints.zip\n",
            "Archive:  training_checkpoints.zip\n",
            " extracting: training_checkpoints/checkpoint  \n",
            " extracting: training_checkpoints/20230605-222939.data-00000-of-00001  \n",
            " extracting: training_checkpoints/20230605-222939.index  \n"
          ]
        }
      ]
    },
    {
      "cell_type": "code",
      "metadata": {
        "colab": {
          "base_uri": "https://localhost:8080/"
        },
        "id": "Qkhor6UEhWAo",
        "outputId": "65744c19-b909-4923-fd1c-944e6e69174a"
      },
      "source": [
        "model = tf.keras.models.load_model('saved_model.h5', compile=False)\n",
        "\n",
        "# Directory where the checkpoints are saved\n",
        "checkpoint_dir = './training_checkpoints'\n",
        "\n",
        "model.load_weights(tf.train.latest_checkpoint(checkpoint_dir))\n",
        "model.build(tf.TensorShape([1, None]))\n",
        "model.summary()"
      ],
      "execution_count": null,
      "outputs": [
        {
          "output_type": "stream",
          "name": "stdout",
          "text": [
            "Model: \"sequential_1\"\n",
            "_________________________________________________________________\n",
            " Layer (type)                Output Shape              Param #   \n",
            "=================================================================\n",
            " embedding_1 (Embedding)     (1, None, 256)            16384     \n",
            "                                                                 \n",
            " gru_3 (GRU)                 (1, None, 256)            394752    \n",
            "                                                                 \n",
            " gru_4 (GRU)                 (1, None, 256)            394752    \n",
            "                                                                 \n",
            " gru_5 (GRU)                 (1, None, 256)            394752    \n",
            "                                                                 \n",
            " dense_1 (Dense)             (1, None, 64)             16448     \n",
            "                                                                 \n",
            "=================================================================\n",
            "Total params: 1,217,088\n",
            "Trainable params: 1,217,088\n",
            "Non-trainable params: 0\n",
            "_________________________________________________________________\n"
          ]
        }
      ]
    },
    {
      "cell_type": "markdown",
      "source": [
        "###Upload the Starting Sequence which is used to generate a signal\n",
        "\n",
        "When prompted, click on \"Choose Files\" and select the ***start_seq.csv*** file used to train the model.\n",
        "\n",
        "**This step can be skipped if you have just trained a model in Part 1.**"
      ],
      "metadata": {
        "id": "A1919LgINKUo"
      }
    },
    {
      "cell_type": "code",
      "source": [
        "#Upload start sequence\n",
        "uploaded  = files.upload()\n",
        "data_save = pd.read_csv(io.BytesIO(uploaded['RNN_full_mam.csv']))\n",
        "\n",
        "x_q = data_save[\"0\"]"
      ],
      "metadata": {
        "colab": {
          "base_uri": "https://localhost:8080/",
          "height": 256
        },
        "id": "DyFOMBV8NJpB",
        "outputId": "58ba719b-e693-480f-f258-ccac7681305e"
      },
      "execution_count": null,
      "outputs": [
        {
          "output_type": "display_data",
          "data": {
            "text/plain": [
              "<IPython.core.display.HTML object>"
            ],
            "text/html": [
              "\n",
              "     <input type=\"file\" id=\"files-ea3a09cb-7e18-4993-ac23-c0f90530d109\" name=\"files[]\" multiple disabled\n",
              "        style=\"border:none\" />\n",
              "     <output id=\"result-ea3a09cb-7e18-4993-ac23-c0f90530d109\">\n",
              "      Upload widget is only available when the cell has been executed in the\n",
              "      current browser session. Please rerun this cell to enable.\n",
              "      </output>\n",
              "      <script>// Copyright 2017 Google LLC\n",
              "//\n",
              "// Licensed under the Apache License, Version 2.0 (the \"License\");\n",
              "// you may not use this file except in compliance with the License.\n",
              "// You may obtain a copy of the License at\n",
              "//\n",
              "//      http://www.apache.org/licenses/LICENSE-2.0\n",
              "//\n",
              "// Unless required by applicable law or agreed to in writing, software\n",
              "// distributed under the License is distributed on an \"AS IS\" BASIS,\n",
              "// WITHOUT WARRANTIES OR CONDITIONS OF ANY KIND, either express or implied.\n",
              "// See the License for the specific language governing permissions and\n",
              "// limitations under the License.\n",
              "\n",
              "/**\n",
              " * @fileoverview Helpers for google.colab Python module.\n",
              " */\n",
              "(function(scope) {\n",
              "function span(text, styleAttributes = {}) {\n",
              "  const element = document.createElement('span');\n",
              "  element.textContent = text;\n",
              "  for (const key of Object.keys(styleAttributes)) {\n",
              "    element.style[key] = styleAttributes[key];\n",
              "  }\n",
              "  return element;\n",
              "}\n",
              "\n",
              "// Max number of bytes which will be uploaded at a time.\n",
              "const MAX_PAYLOAD_SIZE = 100 * 1024;\n",
              "\n",
              "function _uploadFiles(inputId, outputId) {\n",
              "  const steps = uploadFilesStep(inputId, outputId);\n",
              "  const outputElement = document.getElementById(outputId);\n",
              "  // Cache steps on the outputElement to make it available for the next call\n",
              "  // to uploadFilesContinue from Python.\n",
              "  outputElement.steps = steps;\n",
              "\n",
              "  return _uploadFilesContinue(outputId);\n",
              "}\n",
              "\n",
              "// This is roughly an async generator (not supported in the browser yet),\n",
              "// where there are multiple asynchronous steps and the Python side is going\n",
              "// to poll for completion of each step.\n",
              "// This uses a Promise to block the python side on completion of each step,\n",
              "// then passes the result of the previous step as the input to the next step.\n",
              "function _uploadFilesContinue(outputId) {\n",
              "  const outputElement = document.getElementById(outputId);\n",
              "  const steps = outputElement.steps;\n",
              "\n",
              "  const next = steps.next(outputElement.lastPromiseValue);\n",
              "  return Promise.resolve(next.value.promise).then((value) => {\n",
              "    // Cache the last promise value to make it available to the next\n",
              "    // step of the generator.\n",
              "    outputElement.lastPromiseValue = value;\n",
              "    return next.value.response;\n",
              "  });\n",
              "}\n",
              "\n",
              "/**\n",
              " * Generator function which is called between each async step of the upload\n",
              " * process.\n",
              " * @param {string} inputId Element ID of the input file picker element.\n",
              " * @param {string} outputId Element ID of the output display.\n",
              " * @return {!Iterable<!Object>} Iterable of next steps.\n",
              " */\n",
              "function* uploadFilesStep(inputId, outputId) {\n",
              "  const inputElement = document.getElementById(inputId);\n",
              "  inputElement.disabled = false;\n",
              "\n",
              "  const outputElement = document.getElementById(outputId);\n",
              "  outputElement.innerHTML = '';\n",
              "\n",
              "  const pickedPromise = new Promise((resolve) => {\n",
              "    inputElement.addEventListener('change', (e) => {\n",
              "      resolve(e.target.files);\n",
              "    });\n",
              "  });\n",
              "\n",
              "  const cancel = document.createElement('button');\n",
              "  inputElement.parentElement.appendChild(cancel);\n",
              "  cancel.textContent = 'Cancel upload';\n",
              "  const cancelPromise = new Promise((resolve) => {\n",
              "    cancel.onclick = () => {\n",
              "      resolve(null);\n",
              "    };\n",
              "  });\n",
              "\n",
              "  // Wait for the user to pick the files.\n",
              "  const files = yield {\n",
              "    promise: Promise.race([pickedPromise, cancelPromise]),\n",
              "    response: {\n",
              "      action: 'starting',\n",
              "    }\n",
              "  };\n",
              "\n",
              "  cancel.remove();\n",
              "\n",
              "  // Disable the input element since further picks are not allowed.\n",
              "  inputElement.disabled = true;\n",
              "\n",
              "  if (!files) {\n",
              "    return {\n",
              "      response: {\n",
              "        action: 'complete',\n",
              "      }\n",
              "    };\n",
              "  }\n",
              "\n",
              "  for (const file of files) {\n",
              "    const li = document.createElement('li');\n",
              "    li.append(span(file.name, {fontWeight: 'bold'}));\n",
              "    li.append(span(\n",
              "        `(${file.type || 'n/a'}) - ${file.size} bytes, ` +\n",
              "        `last modified: ${\n",
              "            file.lastModifiedDate ? file.lastModifiedDate.toLocaleDateString() :\n",
              "                                    'n/a'} - `));\n",
              "    const percent = span('0% done');\n",
              "    li.appendChild(percent);\n",
              "\n",
              "    outputElement.appendChild(li);\n",
              "\n",
              "    const fileDataPromise = new Promise((resolve) => {\n",
              "      const reader = new FileReader();\n",
              "      reader.onload = (e) => {\n",
              "        resolve(e.target.result);\n",
              "      };\n",
              "      reader.readAsArrayBuffer(file);\n",
              "    });\n",
              "    // Wait for the data to be ready.\n",
              "    let fileData = yield {\n",
              "      promise: fileDataPromise,\n",
              "      response: {\n",
              "        action: 'continue',\n",
              "      }\n",
              "    };\n",
              "\n",
              "    // Use a chunked sending to avoid message size limits. See b/62115660.\n",
              "    let position = 0;\n",
              "    do {\n",
              "      const length = Math.min(fileData.byteLength - position, MAX_PAYLOAD_SIZE);\n",
              "      const chunk = new Uint8Array(fileData, position, length);\n",
              "      position += length;\n",
              "\n",
              "      const base64 = btoa(String.fromCharCode.apply(null, chunk));\n",
              "      yield {\n",
              "        response: {\n",
              "          action: 'append',\n",
              "          file: file.name,\n",
              "          data: base64,\n",
              "        },\n",
              "      };\n",
              "\n",
              "      let percentDone = fileData.byteLength === 0 ?\n",
              "          100 :\n",
              "          Math.round((position / fileData.byteLength) * 100);\n",
              "      percent.textContent = `${percentDone}% done`;\n",
              "\n",
              "    } while (position < fileData.byteLength);\n",
              "  }\n",
              "\n",
              "  // All done.\n",
              "  yield {\n",
              "    response: {\n",
              "      action: 'complete',\n",
              "    }\n",
              "  };\n",
              "}\n",
              "\n",
              "scope.google = scope.google || {};\n",
              "scope.google.colab = scope.google.colab || {};\n",
              "scope.google.colab._files = {\n",
              "  _uploadFiles,\n",
              "  _uploadFilesContinue,\n",
              "};\n",
              "})(self);\n",
              "</script> "
            ]
          },
          "metadata": {}
        },
        {
          "output_type": "error",
          "ename": "KeyError",
          "evalue": "ignored",
          "traceback": [
            "\u001b[0;31m---------------------------------------------------------------------------\u001b[0m",
            "\u001b[0;31mKeyError\u001b[0m                                  Traceback (most recent call last)",
            "\u001b[0;32m<ipython-input-19-d7d2ae61bc44>\u001b[0m in \u001b[0;36m<cell line: 3>\u001b[0;34m()\u001b[0m\n\u001b[1;32m      1\u001b[0m \u001b[0;31m#Upload start sequence\u001b[0m\u001b[0;34m\u001b[0m\u001b[0;34m\u001b[0m\u001b[0m\n\u001b[1;32m      2\u001b[0m \u001b[0muploaded\u001b[0m  \u001b[0;34m=\u001b[0m \u001b[0mfiles\u001b[0m\u001b[0;34m.\u001b[0m\u001b[0mupload\u001b[0m\u001b[0;34m(\u001b[0m\u001b[0;34m)\u001b[0m\u001b[0;34m\u001b[0m\u001b[0;34m\u001b[0m\u001b[0m\n\u001b[0;32m----> 3\u001b[0;31m \u001b[0mdata_save\u001b[0m \u001b[0;34m=\u001b[0m \u001b[0mpd\u001b[0m\u001b[0;34m.\u001b[0m\u001b[0mread_csv\u001b[0m\u001b[0;34m(\u001b[0m\u001b[0mio\u001b[0m\u001b[0;34m.\u001b[0m\u001b[0mBytesIO\u001b[0m\u001b[0;34m(\u001b[0m\u001b[0muploaded\u001b[0m\u001b[0;34m[\u001b[0m\u001b[0;34m'RNN_full_mam.csv'\u001b[0m\u001b[0;34m]\u001b[0m\u001b[0;34m)\u001b[0m\u001b[0;34m)\u001b[0m\u001b[0;34m\u001b[0m\u001b[0;34m\u001b[0m\u001b[0m\n\u001b[0m\u001b[1;32m      4\u001b[0m \u001b[0;34m\u001b[0m\u001b[0m\n\u001b[1;32m      5\u001b[0m \u001b[0mx_q\u001b[0m \u001b[0;34m=\u001b[0m \u001b[0mdata_save\u001b[0m\u001b[0;34m[\u001b[0m\u001b[0;34m\"0\"\u001b[0m\u001b[0;34m]\u001b[0m\u001b[0;34m\u001b[0m\u001b[0;34m\u001b[0m\u001b[0m\n",
            "\u001b[0;31mKeyError\u001b[0m: 'RNN_full_mam.csv'"
          ]
        }
      ]
    },
    {
      "cell_type": "markdown",
      "metadata": {
        "id": "bbi4oIOvtXjc"
      },
      "source": [
        "## Create Generative Model for New Data"
      ]
    },
    {
      "cell_type": "code",
      "metadata": {
        "colab": {
          "base_uri": "https://localhost:8080/"
        },
        "id": "9snSXxBix28J",
        "outputId": "a19dad8f-21f2-42e3-bcd5-1348ac63ad2c"
      },
      "source": [
        "#tf.train.latest_checkpoint(checkpoint_dir)\n",
        "#model = build_model(numUniqueCharacters, embedding_dim, rnn_units, batch_size=1)\n",
        "model.load_weights(tf.train.latest_checkpoint(checkpoint_dir))\n",
        "model.build(tf.TensorShape([1, None]))\n",
        "model.summary()\n",
        "\n",
        "def generate_signal(model, start_seq, num_generate):\n",
        "  input_eval = tf.expand_dims(start_seq, 0)\n",
        "  signal_generated = np.asarray([])\n",
        "  model.reset_states()\n",
        "  for i in range(num_generate):\n",
        "      predictions = model(input_eval)\n",
        "      predictions = tf.squeeze(predictions, 0)\n",
        "      temperature = 1\n",
        "      predictions = predictions / temperature\n",
        "      predicted_id = tf.random.categorical(predictions, num_samples=1)[-1,0].numpy()\n",
        "\n",
        "      # Pass the predicted word as the next input to the model\n",
        "      # along with the previous hidden state\n",
        "      input_eval = tf.expand_dims([predicted_id], 0)\n",
        "      signal_generated=np.append(signal_generated, predicted_id)\n",
        "  return (np.append(start_seq,signal_generated))\n"
      ],
      "execution_count": null,
      "outputs": [
        {
          "output_type": "stream",
          "name": "stdout",
          "text": [
            "Model: \"sequential_1\"\n",
            "_________________________________________________________________\n",
            " Layer (type)                Output Shape              Param #   \n",
            "=================================================================\n",
            " embedding_1 (Embedding)     (1, None, 256)            16384     \n",
            "                                                                 \n",
            " gru_3 (GRU)                 (1, None, 256)            394752    \n",
            "                                                                 \n",
            " gru_4 (GRU)                 (1, None, 256)            394752    \n",
            "                                                                 \n",
            " gru_5 (GRU)                 (1, None, 256)            394752    \n",
            "                                                                 \n",
            " dense_1 (Dense)             (1, None, 64)             16448     \n",
            "                                                                 \n",
            "=================================================================\n",
            "Total params: 1,217,088\n",
            "Trainable params: 1,217,088\n",
            "Non-trainable params: 0\n",
            "_________________________________________________________________\n"
          ]
        }
      ]
    },
    {
      "cell_type": "markdown",
      "metadata": {
        "id": "Q_240qCAyGOw"
      },
      "source": [
        "## Generate Simulated Motion Artifact Data\n",
        "\n",
        "With the trained model, generate a simulated motion artifact signal. Adjust the value of **num_generate** to change how many samples are in the output signal."
      ]
    },
    {
      "cell_type": "code",
      "metadata": {
        "id": "xi8I1GSYyUgG"
      },
      "source": [
        "num_generate = 5000 #80400 # Number of samples to generate\n",
        "output = generate_signal(model, start_seq= x_q[0:500], num_generate = num_generate)\n",
        "output = np.asarray(output)\n",
        "#t = np.linspace(0, ((num_generate+500)/new_fs), num_generate+500)"
      ],
      "execution_count": null,
      "outputs": []
    },
    {
      "cell_type": "markdown",
      "source": [
        "###Eliminate DC Offset, Normalize and Resample Output Signal\n",
        "\n",
        "Adjust the sampling frequency of the output signal by changing the value of ***fs***."
      ],
      "metadata": {
        "id": "mTsXUx2Ydj4R"
      }
    },
    {
      "cell_type": "code",
      "source": [
        "fs = 128\n",
        "\n",
        "original_output = output\n",
        "mean_output = mean(output)\n",
        "\n",
        "for i in range (len(output)):\n",
        "  output[i] = output[i] - mean_output\n",
        "\n",
        "signal_power = np.sum(np.square(output))/len(output)\n",
        "output = output/np.sqrt(signal_power)\n",
        "\n",
        "new_fs = 67\n",
        "down_factor = fs/new_fs\n",
        "output = signal.resample(output, np.int(len(output)*down_factor))"
      ],
      "metadata": {
        "colab": {
          "base_uri": "https://localhost:8080/"
        },
        "id": "wvZBIAtubxeF",
        "outputId": "c2c3dfc1-e60d-4481-8b99-da0b706665f0"
      },
      "execution_count": null,
      "outputs": [
        {
          "output_type": "stream",
          "name": "stderr",
          "text": [
            "<ipython-input-21-785b6f4ff9b1>:4: DeprecationWarning: scipy.mean is deprecated and will be removed in SciPy 2.0.0, use numpy.mean instead\n",
            "  mean_output = mean(output)\n",
            "<ipython-input-21-785b6f4ff9b1>:14: DeprecationWarning: `np.int` is a deprecated alias for the builtin `int`. To silence this warning, use `int` by itself. Doing this will not modify any behavior and is safe. When replacing `np.int`, you may wish to use e.g. `np.int64` or `np.int32` to specify the precision. If you wish to review your current use, check the release note link for additional information.\n",
            "Deprecated in NumPy 1.20; for more details and guidance: https://numpy.org/devdocs/release/1.20.0-notes.html#deprecations\n",
            "  output = signal.resample(output, np.int(len(output)*down_factor))\n"
          ]
        }
      ]
    },
    {
      "cell_type": "markdown",
      "source": [
        "## Visualize Simulated Motion Artifact\n",
        "\n",
        "The cells below will allow you to view the output signal in the time domain as well as the power spectral density (PSD)."
      ],
      "metadata": {
        "id": "ZEob3_0BfnGA"
      }
    },
    {
      "cell_type": "code",
      "source": [
        "def find_psd_out(x, fs):\n",
        "    f, Pxx_den = signal.welch(x, fs = fs, nperseg = len(x)/5)\n",
        "    return(Pxx_den,f)\n",
        "\n",
        "pxx_output, f_output = find_psd_out(output, fs)"
      ],
      "metadata": {
        "id": "FfY1E9vm3yi2"
      },
      "execution_count": null,
      "outputs": []
    },
    {
      "cell_type": "code",
      "metadata": {
        "colab": {
          "base_uri": "https://localhost:8080/",
          "height": 769
        },
        "id": "-j27AZT6tb9f",
        "outputId": "8f439998-9317-4069-e606-dfd00f1de06b"
      },
      "source": [
        "#Plot generated signal\n",
        "length_output = np.size(output)\n",
        "t_output = np.linspace(0, length_output/fs, length_output)\n",
        "#Generated signal\n",
        "plt.subplot(2,1,1)\n",
        "plt.plot(t_output, output)\n",
        "#plt.xlim([0,10]) #Set time values to zoom on a part of the input signal (seconds)\n",
        "plt.ylim([-4,4]) #Adjust amplitude values for better viewing\n",
        "plt.title('Output Signal')\n",
        "plt.ylabel('Amplitude')\n",
        "plt.xlabel('Time (s)')\n",
        "\n",
        "#Plot PSD plot of output signal\n",
        "plt.subplot(2,1,2)\n",
        "plt.plot(f_output, 10*np.log10(pxx_output))\n",
        "plt.xlim([0,10]) #Frequency values (Hz) can be adjusted for better viewing\n",
        "plt.ylim([-35,10]) #Magnitude values (dB) can be adjusted for better viewing\n",
        "plt.title('Power Spectral Density of Output Signal')\n",
        "plt.ylabel('Magnitude (dB)')\n",
        "plt.xlabel('Frequency (Hz)')\n",
        "\n",
        "plt.subplots_adjust(left=None, bottom=None, right=None, top=1.5, wspace=None, hspace=0.5)"
      ],
      "execution_count": null,
      "outputs": [
        {
          "output_type": "display_data",
          "data": {
            "text/plain": [
              "<Figure size 640x480 with 2 Axes>"
            ],
            "image/png": "[encoded data removed]"
          },
          "metadata": {}
        }
      ]
    },
    {
      "cell_type": "markdown",
      "metadata": {
        "id": "xtPdC-Reybge"
      },
      "source": [
        "## Save the Generated Motion Artifact Data\n",
        "\n",
        "The simulated motion artifact signal can be saved in one of two ways.\n",
        "\n",
        "**Option 1: Save simulated motion artifact data directly to computer**\n",
        "\n",
        "In the cell below, change \"*generated_signal*\" to what you would like the file to be called. The file will be saved in *.csv* format.\n",
        "\n",
        "To download the simulated motion artifact data, run the cell below."
      ]
    },
    {
      "cell_type": "code",
      "metadata": {
        "id": "DICa4MOL2eYr",
        "colab": {
          "base_uri": "https://localhost:8080/",
          "height": 17
        },
        "outputId": "32b56d9c-864e-40ec-ae2c-f7ebea694535"
      },
      "source": [
        "df = pd.DataFrame(output)\n",
        "df.to_csv(\"generated_signal.csv\")\n",
        "files.download('generated_signal.csv')"
      ],
      "execution_count": null,
      "outputs": [
        {
          "output_type": "display_data",
          "data": {
            "text/plain": [
              "<IPython.core.display.Javascript object>"
            ],
            "application/javascript": [
              "\n",
              "    async function download(id, filename, size) {\n",
              "      if (!google.colab.kernel.accessAllowed) {\n",
              "        return;\n",
              "      }\n",
              "      const div = document.createElement('div');\n",
              "      const label = document.createElement('label');\n",
              "      label.textContent = `Downloading \"${filename}\": `;\n",
              "      div.appendChild(label);\n",
              "      const progress = document.createElement('progress');\n",
              "      progress.max = size;\n",
              "      div.appendChild(progress);\n",
              "      document.body.appendChild(div);\n",
              "\n",
              "      const buffers = [];\n",
              "      let downloaded = 0;\n",
              "\n",
              "      const channel = await google.colab.kernel.comms.open(id);\n",
              "      // Send a message to notify the kernel that we're ready.\n",
              "      channel.send({})\n",
              "\n",
              "      for await (const message of channel.messages) {\n",
              "        // Send a message to notify the kernel that we're ready.\n",
              "        channel.send({})\n",
              "        if (message.buffers) {\n",
              "          for (const buffer of message.buffers) {\n",
              "            buffers.push(buffer);\n",
              "            downloaded += buffer.byteLength;\n",
              "            progress.value = downloaded;\n",
              "          }\n",
              "        }\n",
              "      }\n",
              "      const blob = new Blob(buffers, {type: 'application/binary'});\n",
              "      const a = document.createElement('a');\n",
              "      a.href = window.URL.createObjectURL(blob);\n",
              "      a.download = filename;\n",
              "      div.appendChild(a);\n",
              "      a.click();\n",
              "      div.remove();\n",
              "    }\n",
              "  "
            ]
          },
          "metadata": {}
        },
        {
          "output_type": "display_data",
          "data": {
            "text/plain": [
              "<IPython.core.display.Javascript object>"
            ],
            "application/javascript": [
              "download(\"download_a2fb145c-c57e-4d3c-bc81-dac896992846\", \"generated_signal.csv\", 4016534)"
            ]
          },
          "metadata": {}
        }
      ]
    },
    {
      "cell_type": "markdown",
      "metadata": {
        "id": "NM84FkhSyoke"
      },
      "source": [
        "**Option 2: Save simulated motion artifact data to a file on Google Drive**\n",
        "\n",
        "Change the filename to what you would like to save the file as. You will also need to change the file path to adjust where the file is saved within your Google Drive. If you have not yet done so, ensure your Google Drive is mounted onto this notebook as seen in the first cell of \"Option 2\" of \"Uploading Sample Motion Artifact Data\". The file will be saved in *.csv* format.\n",
        "\n",
        "In the cell below, change 'NEW_FILE_NAME' and 'NEW_FILE_PATH' accordingly."
      ]
    },
    {
      "cell_type": "code",
      "metadata": {
        "id": "Es7vqyDny2rS"
      },
      "source": [
        "df = pd.DataFrame(output)\n",
        "filename = \"NEW_FILE_NAME\"\n",
        "df.to_csv(\"/content/drive/My Drive/NEW_FILE_PATH/{}.csv\".format(filename))"
      ],
      "execution_count": null,
      "outputs": []
    }
  ]
}